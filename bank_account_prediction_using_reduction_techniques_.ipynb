{
  "nbformat": 4,
  "nbformat_minor": 0,
  "metadata": {
    "colab": {
      "name": "bank account prediction using reduction techniques.",
      "provenance": [],
      "toc_visible": true
    },
    "kernelspec": {
      "name": "python3",
      "display_name": "Python 3"
    }
  },
  "cells": [
    {
      "cell_type": "markdown",
      "metadata": {
        "id": "RgE0ViK0YOff",
        "colab_type": "text"
      },
      "source": [
        "# 1.Defining the Question"
      ]
    },
    {
      "cell_type": "markdown",
      "metadata": {
        "id": "E65YeJXra-1t",
        "colab_type": "text"
      },
      "source": [
        "a) Specifying the Data Analytic Question\n",
        "\n",
        ">Determine how we can predict which individuals are most likely to have or use a bank account.\n",
        "\n"
      ]
    },
    {
      "cell_type": "markdown",
      "metadata": {
        "id": "LGhVgthBcyDC",
        "colab_type": "text"
      },
      "source": [
        "b) Defining the Metric for Success\n",
        "\n",
        "> Help provide an indication of the state of financial inclusion in Kenya, Rwanda, Tanzania, and Uganda, while providing insights into some of the key demographic factors that might drive individuals’ financial outcomes.\n",
        "\n"
      ]
    },
    {
      "cell_type": "markdown",
      "metadata": {
        "id": "Q-7siaUzdysV",
        "colab_type": "text"
      },
      "source": [
        "c) Understanding the context\n",
        "\n",
        "> Financial Inclusion remains one of the main obstacles to economic and human development in Africa. For example, across Kenya, Rwanda, Tanzania, and Uganda only 9.1 million adults (or 13.9% of the adult population) have access to or use a commercial bank account.\n",
        "> Traditionally, access to bank accounts has been regarded as an indicator of financial inclusion. Despite the proliferation of mobile money in Africa and the growth of innovative fintech solutions, banks still play a pivotal role in facilitating access to financial services. Access to bank accounts enables households to save and facilitate payments while also helping businesses build up their credit-worthiness and improve their access to other financial services. Therefore, access to bank accounts is an essential contributor to long-term economic growth.\n",
        "\n",
        "\n",
        "\n",
        "\n"
      ]
    },
    {
      "cell_type": "markdown",
      "metadata": {
        "id": "AYcNJQL9ec1K",
        "colab_type": "text"
      },
      "source": [
        "d) Recording the Experimental Design\n",
        "\n",
        "> Perform univariate analysis by calculating and interpreting measures of central tendency (mode, median, mean) for a set of data and select an appropriate measure of dispersion and correctly calculate and interpret the statistic.\n",
        "\n",
        "\n",
        "> Perform bivariate analysis by creating visualizations i.e. scatter plots, line charts to determine the relationship between variables, by describing the relationship between two quantitative variables, and computing and interpreting the Pearson correlation coefficient.\n",
        "\n",
        "> Perform multivariate analysis by finding relationships between variables using multiple regression analysis and applying reduction techniques to our analysis. \n",
        "\n",
        "\n",
        "\n",
        "\n",
        "\n"
      ]
    },
    {
      "cell_type": "markdown",
      "metadata": {
        "id": "NkMH6CdrYiD0",
        "colab_type": "text"
      },
      "source": [
        "e) Data Relevance\n",
        "\n",
        "> Our dataset contains demographic information and what financial services are used by individuals across East Africa. This data was extracted from various Finscope surveys ranging from 2016 to 2018.\n",
        "\n",
        "\n",
        "> The variables we have country, year, uniqueid, location type, cellphone access, household size, age of respondent, gender of respondent, relationship with head, marital status, education level and job level will help us answer the question how we can predict which individuals are most likely to have or use a bank account.\n",
        "\n",
        "\n",
        "\n"
      ]
    },
    {
      "cell_type": "markdown",
      "metadata": {
        "id": "i2-4UYg8Y5qP",
        "colab_type": "text"
      },
      "source": [
        "# 2.Reading the Data"
      ]
    },
    {
      "cell_type": "markdown",
      "metadata": {
        "id": "JCEgryj5YpjZ",
        "colab_type": "text"
      },
      "source": [
        "a) Importing our libraries"
      ]
    },
    {
      "cell_type": "code",
      "metadata": {
        "id": "li2lfrriY6DP",
        "colab_type": "code",
        "colab": {}
      },
      "source": [
        "import pandas as pd\n",
        "\n",
        "import numpy as np\n",
        "\n",
        "import seaborn as sns\n",
        "\n",
        "import matplotlib.pyplot as plt\n",
        "\n",
        "%matplotlib inline\n",
        "\n",
        "import sklearn as sk\n",
        "\n",
        "import pandas_profiling as pp\n",
        "\n",
        "from sklearn import model_selection\n",
        "\n",
        "from sklearn.metrics import r2_score\n",
        "\n",
        "from sklearn.model_selection import train_test_split\n",
        "\n",
        "from sklearn.preprocessing import StandardScaler\n",
        "\n",
        "from sklearn.decomposition import PCA\n",
        "\n",
        "from sklearn.ensemble import RandomForestClassifier\n",
        "\n",
        "from sklearn.metrics import confusion_matrix\n",
        "\n",
        "from sklearn.metrics import accuracy_score\n",
        "\n",
        "from sklearn.discriminant_analysis import LinearDiscriminantAnalysis as LDA\n",
        "\n",
        "from sklearn.linear_model import LinearRegression\n",
        "\n",
        "import statsmodels.api as sm\n",
        "\n"
      ],
      "execution_count": 0,
      "outputs": []
    },
    {
      "cell_type": "code",
      "metadata": {
        "id": "1y4ZlHeXdCK2",
        "colab_type": "code",
        "outputId": "9da0a5ad-7123-41a9-c8b6-629f4c6b85b8",
        "colab": {
          "base_uri": "https://localhost:8080/",
          "height": 321
        }
      },
      "source": [
        "#loading and previewing our dataset\n",
        "FinancialDataset = pd.read_csv(\"http://bit.ly/FinancialDataset\")\n",
        "FinancialDataset.head()"
      ],
      "execution_count": 0,
      "outputs": [
        {
          "output_type": "execute_result",
          "data": {
            "text/html": [
              "<div>\n",
              "<style scoped>\n",
              "    .dataframe tbody tr th:only-of-type {\n",
              "        vertical-align: middle;\n",
              "    }\n",
              "\n",
              "    .dataframe tbody tr th {\n",
              "        vertical-align: top;\n",
              "    }\n",
              "\n",
              "    .dataframe thead th {\n",
              "        text-align: right;\n",
              "    }\n",
              "</style>\n",
              "<table border=\"1\" class=\"dataframe\">\n",
              "  <thead>\n",
              "    <tr style=\"text-align: right;\">\n",
              "      <th></th>\n",
              "      <th>country</th>\n",
              "      <th>year</th>\n",
              "      <th>uniqueid</th>\n",
              "      <th>Has a Bank account</th>\n",
              "      <th>Type of Location</th>\n",
              "      <th>Cell Phone Access</th>\n",
              "      <th>household_size</th>\n",
              "      <th>Respondent Age</th>\n",
              "      <th>gender_of_respondent</th>\n",
              "      <th>The relathip with head</th>\n",
              "      <th>marital_status</th>\n",
              "      <th>Level of Educuation</th>\n",
              "      <th>Type of Job</th>\n",
              "    </tr>\n",
              "  </thead>\n",
              "  <tbody>\n",
              "    <tr>\n",
              "      <th>0</th>\n",
              "      <td>Kenya</td>\n",
              "      <td>2018</td>\n",
              "      <td>uniqueid_1</td>\n",
              "      <td>Yes</td>\n",
              "      <td>Rural</td>\n",
              "      <td>Yes</td>\n",
              "      <td>3.0</td>\n",
              "      <td>24.0</td>\n",
              "      <td>Female</td>\n",
              "      <td>Spouse</td>\n",
              "      <td>Married/Living together</td>\n",
              "      <td>Secondary education</td>\n",
              "      <td>Self employed</td>\n",
              "    </tr>\n",
              "    <tr>\n",
              "      <th>1</th>\n",
              "      <td>Kenya</td>\n",
              "      <td>2018</td>\n",
              "      <td>uniqueid_2</td>\n",
              "      <td>No</td>\n",
              "      <td>Rural</td>\n",
              "      <td>No</td>\n",
              "      <td>5.0</td>\n",
              "      <td>70.0</td>\n",
              "      <td>Female</td>\n",
              "      <td>Head of Household</td>\n",
              "      <td>Widowed</td>\n",
              "      <td>No formal education</td>\n",
              "      <td>Government Dependent</td>\n",
              "    </tr>\n",
              "    <tr>\n",
              "      <th>2</th>\n",
              "      <td>Kenya</td>\n",
              "      <td>2018</td>\n",
              "      <td>uniqueid_3</td>\n",
              "      <td>Yes</td>\n",
              "      <td>Urban</td>\n",
              "      <td>Yes</td>\n",
              "      <td>5.0</td>\n",
              "      <td>26.0</td>\n",
              "      <td>Male</td>\n",
              "      <td>Other relative</td>\n",
              "      <td>Single/Never Married</td>\n",
              "      <td>Vocational/Specialised training</td>\n",
              "      <td>Self employed</td>\n",
              "    </tr>\n",
              "    <tr>\n",
              "      <th>3</th>\n",
              "      <td>Kenya</td>\n",
              "      <td>2018</td>\n",
              "      <td>uniqueid_4</td>\n",
              "      <td>No</td>\n",
              "      <td>Rural</td>\n",
              "      <td>Yes</td>\n",
              "      <td>5.0</td>\n",
              "      <td>34.0</td>\n",
              "      <td>Female</td>\n",
              "      <td>Head of Household</td>\n",
              "      <td>Married/Living together</td>\n",
              "      <td>Primary education</td>\n",
              "      <td>Formally employed Private</td>\n",
              "    </tr>\n",
              "    <tr>\n",
              "      <th>4</th>\n",
              "      <td>Kenya</td>\n",
              "      <td>2018</td>\n",
              "      <td>uniqueid_5</td>\n",
              "      <td>No</td>\n",
              "      <td>Urban</td>\n",
              "      <td>No</td>\n",
              "      <td>8.0</td>\n",
              "      <td>26.0</td>\n",
              "      <td>Male</td>\n",
              "      <td>Child</td>\n",
              "      <td>Single/Never Married</td>\n",
              "      <td>Primary education</td>\n",
              "      <td>Informally employed</td>\n",
              "    </tr>\n",
              "  </tbody>\n",
              "</table>\n",
              "</div>"
            ],
            "text/plain": [
              "  country  year  ...              Level of Educuation                Type of Job\n",
              "0   Kenya  2018  ...              Secondary education              Self employed\n",
              "1   Kenya  2018  ...              No formal education       Government Dependent\n",
              "2   Kenya  2018  ...  Vocational/Specialised training              Self employed\n",
              "3   Kenya  2018  ...                Primary education  Formally employed Private\n",
              "4   Kenya  2018  ...                Primary education        Informally employed\n",
              "\n",
              "[5 rows x 13 columns]"
            ]
          },
          "metadata": {
            "tags": []
          },
          "execution_count": 2
        }
      ]
    },
    {
      "cell_type": "markdown",
      "metadata": {
        "id": "5VI8jVfYZCsi",
        "colab_type": "text"
      },
      "source": [
        "# 3.Checking the Data"
      ]
    },
    {
      "cell_type": "code",
      "metadata": {
        "id": "Q0jpLnJfeRN7",
        "colab_type": "code",
        "outputId": "c88d5359-7c9d-49b1-f02f-799e88d38f98",
        "colab": {
          "base_uri": "https://localhost:8080/",
          "height": 33
        }
      },
      "source": [
        "# Determining the no. of records in our dataset\n",
        "FinancialDataset.shape"
      ],
      "execution_count": 0,
      "outputs": [
        {
          "output_type": "execute_result",
          "data": {
            "text/plain": [
              "(23524, 13)"
            ]
          },
          "metadata": {
            "tags": []
          },
          "execution_count": 3
        }
      ]
    },
    {
      "cell_type": "code",
      "metadata": {
        "id": "dTuze-wvftvV",
        "colab_type": "code",
        "outputId": "1de1ef14-8a8a-440d-ae51-7d9c6ce4731f",
        "colab": {
          "base_uri": "https://localhost:8080/",
          "height": 98
        }
      },
      "source": [
        "# checking the columns\n",
        "FinancialDataset.columns"
      ],
      "execution_count": 0,
      "outputs": [
        {
          "output_type": "execute_result",
          "data": {
            "text/plain": [
              "Index(['country', 'year', 'uniqueid', 'Has a Bank account', 'Type of Location',\n",
              "       'Cell Phone Access', 'household_size', 'Respondent Age',\n",
              "       'gender_of_respondent', 'The relathip with head', 'marital_status',\n",
              "       'Level of Educuation', 'Type of Job'],\n",
              "      dtype='object')"
            ]
          },
          "metadata": {
            "tags": []
          },
          "execution_count": 4
        }
      ]
    },
    {
      "cell_type": "code",
      "metadata": {
        "id": "-B97yvd4lXw6",
        "colab_type": "code",
        "outputId": "2c827a0c-4410-4e56-c693-cd2179cf310c",
        "colab": {
          "base_uri": "https://localhost:8080/",
          "height": 308
        }
      },
      "source": [
        "#Renaming our columns\n",
        "FinancialDataset.rename({'Has a Bank account': 'bank_account', 'Type of Location': 'location', 'The relathip with head': 'relationship', 'Respondent Age': 'age', \n",
        "                'Level of Educuation': 'education_level', 'Type of Job': 'job', 'Cell Phone Access': 'cellphone'}, axis=1, inplace=True)\n",
        "FinancialDataset.head()"
      ],
      "execution_count": 0,
      "outputs": [
        {
          "output_type": "execute_result",
          "data": {
            "text/html": [
              "<div>\n",
              "<style scoped>\n",
              "    .dataframe tbody tr th:only-of-type {\n",
              "        vertical-align: middle;\n",
              "    }\n",
              "\n",
              "    .dataframe tbody tr th {\n",
              "        vertical-align: top;\n",
              "    }\n",
              "\n",
              "    .dataframe thead th {\n",
              "        text-align: right;\n",
              "    }\n",
              "</style>\n",
              "<table border=\"1\" class=\"dataframe\">\n",
              "  <thead>\n",
              "    <tr style=\"text-align: right;\">\n",
              "      <th></th>\n",
              "      <th>country</th>\n",
              "      <th>year</th>\n",
              "      <th>uniqueid</th>\n",
              "      <th>bank_account</th>\n",
              "      <th>location</th>\n",
              "      <th>cellphone</th>\n",
              "      <th>household_size</th>\n",
              "      <th>age</th>\n",
              "      <th>gender_of_respondent</th>\n",
              "      <th>relationship</th>\n",
              "      <th>marital_status</th>\n",
              "      <th>education_level</th>\n",
              "      <th>job</th>\n",
              "    </tr>\n",
              "  </thead>\n",
              "  <tbody>\n",
              "    <tr>\n",
              "      <th>0</th>\n",
              "      <td>Kenya</td>\n",
              "      <td>2018</td>\n",
              "      <td>uniqueid_1</td>\n",
              "      <td>Yes</td>\n",
              "      <td>Rural</td>\n",
              "      <td>Yes</td>\n",
              "      <td>3.0</td>\n",
              "      <td>24.0</td>\n",
              "      <td>Female</td>\n",
              "      <td>Spouse</td>\n",
              "      <td>Married/Living together</td>\n",
              "      <td>Secondary education</td>\n",
              "      <td>Self employed</td>\n",
              "    </tr>\n",
              "    <tr>\n",
              "      <th>1</th>\n",
              "      <td>Kenya</td>\n",
              "      <td>2018</td>\n",
              "      <td>uniqueid_2</td>\n",
              "      <td>No</td>\n",
              "      <td>Rural</td>\n",
              "      <td>No</td>\n",
              "      <td>5.0</td>\n",
              "      <td>70.0</td>\n",
              "      <td>Female</td>\n",
              "      <td>Head of Household</td>\n",
              "      <td>Widowed</td>\n",
              "      <td>No formal education</td>\n",
              "      <td>Government Dependent</td>\n",
              "    </tr>\n",
              "    <tr>\n",
              "      <th>2</th>\n",
              "      <td>Kenya</td>\n",
              "      <td>2018</td>\n",
              "      <td>uniqueid_3</td>\n",
              "      <td>Yes</td>\n",
              "      <td>Urban</td>\n",
              "      <td>Yes</td>\n",
              "      <td>5.0</td>\n",
              "      <td>26.0</td>\n",
              "      <td>Male</td>\n",
              "      <td>Other relative</td>\n",
              "      <td>Single/Never Married</td>\n",
              "      <td>Vocational/Specialised training</td>\n",
              "      <td>Self employed</td>\n",
              "    </tr>\n",
              "    <tr>\n",
              "      <th>3</th>\n",
              "      <td>Kenya</td>\n",
              "      <td>2018</td>\n",
              "      <td>uniqueid_4</td>\n",
              "      <td>No</td>\n",
              "      <td>Rural</td>\n",
              "      <td>Yes</td>\n",
              "      <td>5.0</td>\n",
              "      <td>34.0</td>\n",
              "      <td>Female</td>\n",
              "      <td>Head of Household</td>\n",
              "      <td>Married/Living together</td>\n",
              "      <td>Primary education</td>\n",
              "      <td>Formally employed Private</td>\n",
              "    </tr>\n",
              "    <tr>\n",
              "      <th>4</th>\n",
              "      <td>Kenya</td>\n",
              "      <td>2018</td>\n",
              "      <td>uniqueid_5</td>\n",
              "      <td>No</td>\n",
              "      <td>Urban</td>\n",
              "      <td>No</td>\n",
              "      <td>8.0</td>\n",
              "      <td>26.0</td>\n",
              "      <td>Male</td>\n",
              "      <td>Child</td>\n",
              "      <td>Single/Never Married</td>\n",
              "      <td>Primary education</td>\n",
              "      <td>Informally employed</td>\n",
              "    </tr>\n",
              "  </tbody>\n",
              "</table>\n",
              "</div>"
            ],
            "text/plain": [
              "  country  year  ...                  education_level                        job\n",
              "0   Kenya  2018  ...              Secondary education              Self employed\n",
              "1   Kenya  2018  ...              No formal education       Government Dependent\n",
              "2   Kenya  2018  ...  Vocational/Specialised training              Self employed\n",
              "3   Kenya  2018  ...                Primary education  Formally employed Private\n",
              "4   Kenya  2018  ...                Primary education        Informally employed\n",
              "\n",
              "[5 rows x 13 columns]"
            ]
          },
          "metadata": {
            "tags": []
          },
          "execution_count": 5
        }
      ]
    },
    {
      "cell_type": "code",
      "metadata": {
        "id": "FaFtsjLXgP0J",
        "colab_type": "code",
        "outputId": "01a21c24-cfb1-45cb-cf81-830565fc1e5a",
        "colab": {
          "base_uri": "https://localhost:8080/",
          "height": 245
        }
      },
      "source": [
        "# Checking the data types\n",
        "FinancialDataset.dtypes"
      ],
      "execution_count": 0,
      "outputs": [
        {
          "output_type": "execute_result",
          "data": {
            "text/plain": [
              "country                  object\n",
              "year                      int64\n",
              "uniqueid                 object\n",
              "bank_account             object\n",
              "location                 object\n",
              "cellphone                object\n",
              "household_size          float64\n",
              "age                     float64\n",
              "gender_of_respondent     object\n",
              "relationship             object\n",
              "marital_status           object\n",
              "education_level          object\n",
              "job                      object\n",
              "dtype: object"
            ]
          },
          "metadata": {
            "tags": []
          },
          "execution_count": 6
        }
      ]
    },
    {
      "cell_type": "code",
      "metadata": {
        "id": "th-DO-nQggoF",
        "colab_type": "code",
        "outputId": "ce8cf2f9-7739-4097-eb13-9aa708ca6ca2",
        "colab": {
          "base_uri": "https://localhost:8080/",
          "height": 245
        }
      },
      "source": [
        "# Checking the number of missing values in our dataset\n",
        "FinancialDataset.isnull().sum()"
      ],
      "execution_count": 0,
      "outputs": [
        {
          "output_type": "execute_result",
          "data": {
            "text/plain": [
              "country                 14\n",
              "year                     0\n",
              "uniqueid                 0\n",
              "bank_account            36\n",
              "location                15\n",
              "cellphone               11\n",
              "household_size          28\n",
              "age                     34\n",
              "gender_of_respondent    34\n",
              "relationship             4\n",
              "marital_status          32\n",
              "education_level         29\n",
              "job                     30\n",
              "dtype: int64"
            ]
          },
          "metadata": {
            "tags": []
          },
          "execution_count": 7
        }
      ]
    },
    {
      "cell_type": "code",
      "metadata": {
        "id": "q4b76hlGhHox",
        "colab_type": "code",
        "outputId": "1e886855-83db-41d3-9a17-571810686af0",
        "colab": {
          "base_uri": "https://localhost:8080/",
          "height": 728
        }
      },
      "source": [
        "#checking for outliers using box plot\n",
        "col_names= ['year', 'household_size', 'age']\n",
        "fig, ax=plt.subplots(len(col_names), figsize=(16,12))\n",
        "for i, col_val in enumerate(col_names):\n",
        "  sns.boxplot(FinancialDataset[col_val], notch= True, ax=ax[i])\n",
        "  ax[i].set_title ('box plot-'+ col_val, fontsize= 12)\n",
        "  ax[i].set_xlabel(col_val, fontsize= 8)\n",
        "  ax[i].set_ylabel('Number', fontsize= 8)\n",
        "\n",
        "plt.show()\n",
        "#column year has outliers"
      ],
      "execution_count": 0,
      "outputs": [
        {
          "output_type": "display_data",
          "data": {
            "image/png": "[encoded data removed]",
            "text/plain": [
              "<Figure size 1152x864 with 3 Axes>"
            ]
          },
          "metadata": {
            "tags": [],
            "needs_background": "light"
          }
        }
      ]
    },
    {
      "cell_type": "code",
      "metadata": {
        "id": "r_VIN6gJkVLj",
        "colab_type": "code",
        "outputId": "0ec70de4-ab71-4b9f-c85e-2d4c416af191",
        "colab": {
          "base_uri": "https://localhost:8080/",
          "height": 33
        }
      },
      "source": [
        "#check for anomalies in the year column\n",
        "FinancialDataset.year.unique()"
      ],
      "execution_count": 0,
      "outputs": [
        {
          "output_type": "execute_result",
          "data": {
            "text/plain": [
              "array([2018, 2029, 2056, 2016, 2039, 2017])"
            ]
          },
          "metadata": {
            "tags": []
          },
          "execution_count": 9
        }
      ]
    },
    {
      "cell_type": "code",
      "metadata": {
        "id": "QfhLUPqAk0m_",
        "colab_type": "code",
        "outputId": "937edefa-99f6-4a77-fa8f-7b0956b9d2a4",
        "colab": {
          "base_uri": "https://localhost:8080/",
          "height": 147
        }
      },
      "source": [
        "#check for anomalies in the age column\n",
        "FinancialDataset.age.unique()"
      ],
      "execution_count": 0,
      "outputs": [
        {
          "output_type": "execute_result",
          "data": {
            "text/plain": [
              "array([ 24.,  70.,  26.,  34.,  32.,  42.,  54.,  76.,  40.,  69.,  64.,\n",
              "        31.,  38.,  47.,  27.,  48.,  25.,  21.,  18.,  22.,  58.,  55.,\n",
              "        62.,  29.,  35.,  45.,  67.,  19.,  80.,  66.,  50.,  33.,  28.,\n",
              "        51.,  16.,  17.,  30.,  37.,  59.,  65.,  46.,  56.,  52.,  23.,\n",
              "        43.,  49.,  44.,  72.,  53.,  63.,  39.,  81.,  78.,  36.,  20.,\n",
              "        60.,  95.,  71.,  57.,  85.,  68.,  41.,  61.,  75.,  86.,  73.,\n",
              "        nan,  93.,  74.,  88.,  90.,  77.,  84.,  82.,  89.,  79.,  83.,\n",
              "        94.,  87.,  92.,  91.,  98.,  97.,  96.,  99., 100.])"
            ]
          },
          "metadata": {
            "tags": []
          },
          "execution_count": 10
        }
      ]
    },
    {
      "cell_type": "markdown",
      "metadata": {
        "id": "GjBlDoxoZOOz",
        "colab_type": "text"
      },
      "source": [
        "# 4.Tidying the Dataset"
      ]
    },
    {
      "cell_type": "code",
      "metadata": {
        "id": "T4A9BeqCmYy4",
        "colab_type": "code",
        "outputId": "a05d5d12-76e5-46e7-e402-72da072e1621",
        "colab": {
          "base_uri": "https://localhost:8080/",
          "height": 245
        }
      },
      "source": [
        "# Dropping all null values in our dataframe\n",
        "\n",
        "FinancialDataset.dropna(inplace = True)\n",
        "FinancialDataset.isnull().sum()"
      ],
      "execution_count": 0,
      "outputs": [
        {
          "output_type": "execute_result",
          "data": {
            "text/plain": [
              "country                 0\n",
              "year                    0\n",
              "uniqueid                0\n",
              "bank_account            0\n",
              "location                0\n",
              "cellphone               0\n",
              "household_size          0\n",
              "age                     0\n",
              "gender_of_respondent    0\n",
              "relationship            0\n",
              "marital_status          0\n",
              "education_level         0\n",
              "job                     0\n",
              "dtype: int64"
            ]
          },
          "metadata": {
            "tags": []
          },
          "execution_count": 11
        }
      ]
    },
    {
      "cell_type": "code",
      "metadata": {
        "id": "pQ9M9AutnEN8",
        "colab_type": "code",
        "outputId": "87618ad4-0081-476c-ba74-fdd41a9e08b4",
        "colab": {
          "base_uri": "https://localhost:8080/",
          "height": 33
        }
      },
      "source": [
        "# Removing the anomalies on the year column\n",
        "\n",
        "names = FinancialDataset[FinancialDataset['year'] > 2018].index\n",
        "FinancialDataset.drop(names, inplace = True)\n",
        "FinancialDataset.year.unique()"
      ],
      "execution_count": 0,
      "outputs": [
        {
          "output_type": "execute_result",
          "data": {
            "text/plain": [
              "array([2018, 2016, 2017])"
            ]
          },
          "metadata": {
            "tags": []
          },
          "execution_count": 12
        }
      ]
    },
    {
      "cell_type": "code",
      "metadata": {
        "id": "1ciGOOyNno_i",
        "colab_type": "code",
        "outputId": "fa847d70-b166-4043-c316-c43cbe5d0f4d",
        "colab": {
          "base_uri": "https://localhost:8080/",
          "height": 82
        }
      },
      "source": [
        "# dropping unnecessary columns\n",
        "FinancialDataset=FinancialDataset.drop(columns=[\"uniqueid\"])\n",
        "FinancialDataset.columns"
      ],
      "execution_count": 0,
      "outputs": [
        {
          "output_type": "execute_result",
          "data": {
            "text/plain": [
              "Index(['country', 'year', 'bank_account', 'location', 'cellphone',\n",
              "       'household_size', 'age', 'gender_of_respondent', 'relationship',\n",
              "       'marital_status', 'education_level', 'job'],\n",
              "      dtype='object')"
            ]
          },
          "metadata": {
            "tags": []
          },
          "execution_count": 13
        }
      ]
    },
    {
      "cell_type": "code",
      "metadata": {
        "id": "IkXmRr_vqMo6",
        "colab_type": "code",
        "outputId": "c6ecd6af-56cd-4182-894f-838e4f430d5c",
        "colab": {
          "base_uri": "https://localhost:8080/",
          "height": 840
        }
      },
      "source": [
        "#remove outliers using percentile\n",
        "def percentile_based_outlier(data, threshold=95):\n",
        "    diff = (100 - threshold) / 2\n",
        "    minval, maxval = np.percentile(data, [diff, 100 - diff])\n",
        "    return (data < minval) | (data > maxval)\n",
        "\n",
        "col_names = ['year', 'household_size', 'age']\n",
        "\n",
        "fig, ax = plt.subplots(len(col_names), figsize=(8,12))\n",
        "\n",
        "for i, col_val in enumerate(col_names):\n",
        "    x = FinancialDataset[col_val][:1000]\n",
        "    sns.distplot(x, ax=ax[i], rug=True, hist=False)\n",
        "    outliers = x[percentile_based_outlier(x)]\n",
        "    ax[i].plot(outliers, np.zeros_like(outliers), 'ro', clip_on=False)\n",
        "\n",
        "    ax[i].set_title('Outlier detection - {}'.format(col_val), fontsize=10)\n",
        "    ax[i].set_xlabel(col_val, fontsize=8)\n",
        "\n",
        "plt.show()"
      ],
      "execution_count": 0,
      "outputs": [
        {
          "output_type": "stream",
          "text": [
            "/usr/local/lib/python3.6/dist-packages/seaborn/distributions.py:283: UserWarning: Data must have variance to compute a kernel density estimate.\n",
            "  warnings.warn(msg, UserWarning)\n"
          ],
          "name": "stderr"
        },
        {
          "output_type": "display_data",
          "data": {
            "image/png": "[encoded data removed]",
            "text/plain": [
              "<Figure size 576x864 with 3 Axes>"
            ]
          },
          "metadata": {
            "tags": [],
            "needs_background": "light"
          }
        }
      ]
    },
    {
      "cell_type": "markdown",
      "metadata": {
        "id": "8yvqf6pxZd6M",
        "colab_type": "text"
      },
      "source": [
        "# 5.Exploratory Analysis\n",
        "\n"
      ]
    },
    {
      "cell_type": "markdown",
      "metadata": {
        "id": "3ztpNKoHvIMz",
        "colab_type": "text"
      },
      "source": [
        "# 1.  Univariate Analysis\n",
        "\n",
        "\n"
      ]
    },
    {
      "cell_type": "markdown",
      "metadata": {
        "id": "17hYVbih-z2-",
        "colab_type": "text"
      },
      "source": [
        "\n",
        "\n",
        ">Frequency Tables\n",
        "\n"
      ]
    },
    {
      "cell_type": "code",
      "metadata": {
        "id": "cUjAmU1E-55-",
        "colab_type": "code",
        "outputId": "8f8b56a4-b0bc-449d-d4bf-224477fe9005",
        "colab": {
          "base_uri": "https://localhost:8080/",
          "height": 133
        }
      },
      "source": [
        "#Frequency table of location\n",
        "location = pd.crosstab(index = FinancialDataset['location'], columns = 'count')\n",
        "location\n",
        "\n"
      ],
      "execution_count": 0,
      "outputs": [
        {
          "output_type": "execute_result",
          "data": {
            "text/html": [
              "<div>\n",
              "<style scoped>\n",
              "    .dataframe tbody tr th:only-of-type {\n",
              "        vertical-align: middle;\n",
              "    }\n",
              "\n",
              "    .dataframe tbody tr th {\n",
              "        vertical-align: top;\n",
              "    }\n",
              "\n",
              "    .dataframe thead th {\n",
              "        text-align: right;\n",
              "    }\n",
              "</style>\n",
              "<table border=\"1\" class=\"dataframe\">\n",
              "  <thead>\n",
              "    <tr style=\"text-align: right;\">\n",
              "      <th>col_0</th>\n",
              "      <th>count</th>\n",
              "    </tr>\n",
              "    <tr>\n",
              "      <th>location</th>\n",
              "      <th></th>\n",
              "    </tr>\n",
              "  </thead>\n",
              "  <tbody>\n",
              "    <tr>\n",
              "      <th>Rural</th>\n",
              "      <td>14263</td>\n",
              "    </tr>\n",
              "    <tr>\n",
              "      <th>Urban</th>\n",
              "      <td>9077</td>\n",
              "    </tr>\n",
              "  </tbody>\n",
              "</table>\n",
              "</div>"
            ],
            "text/plain": [
              "col_0     count\n",
              "location       \n",
              "Rural     14263\n",
              "Urban      9077"
            ]
          },
          "metadata": {
            "tags": []
          },
          "execution_count": 15
        }
      ]
    },
    {
      "cell_type": "code",
      "metadata": {
        "id": "mw2Jb7k4DBF5",
        "colab_type": "code",
        "outputId": "78a84ecb-e310-4389-d3df-4032feec8fbb",
        "colab": {
          "base_uri": "https://localhost:8080/",
          "height": 133
        }
      },
      "source": [
        "#Frequency table of cellphone\n",
        "cellphone = pd.crosstab(index = FinancialDataset['cellphone'], columns = 'count')\n",
        "cellphone"
      ],
      "execution_count": 0,
      "outputs": [
        {
          "output_type": "execute_result",
          "data": {
            "text/html": [
              "<div>\n",
              "<style scoped>\n",
              "    .dataframe tbody tr th:only-of-type {\n",
              "        vertical-align: middle;\n",
              "    }\n",
              "\n",
              "    .dataframe tbody tr th {\n",
              "        vertical-align: top;\n",
              "    }\n",
              "\n",
              "    .dataframe thead th {\n",
              "        text-align: right;\n",
              "    }\n",
              "</style>\n",
              "<table border=\"1\" class=\"dataframe\">\n",
              "  <thead>\n",
              "    <tr style=\"text-align: right;\">\n",
              "      <th>col_0</th>\n",
              "      <th>count</th>\n",
              "    </tr>\n",
              "    <tr>\n",
              "      <th>cellphone</th>\n",
              "      <th></th>\n",
              "    </tr>\n",
              "  </thead>\n",
              "  <tbody>\n",
              "    <tr>\n",
              "      <th>No</th>\n",
              "      <td>6009</td>\n",
              "    </tr>\n",
              "    <tr>\n",
              "      <th>Yes</th>\n",
              "      <td>17331</td>\n",
              "    </tr>\n",
              "  </tbody>\n",
              "</table>\n",
              "</div>"
            ],
            "text/plain": [
              "col_0      count\n",
              "cellphone       \n",
              "No          6009\n",
              "Yes        17331"
            ]
          },
          "metadata": {
            "tags": []
          },
          "execution_count": 16
        }
      ]
    },
    {
      "cell_type": "markdown",
      "metadata": {
        "id": "45Ij9UTI3EO2",
        "colab_type": "text"
      },
      "source": [
        "\n",
        "\n",
        "> Pie Charts\n",
        "\n"
      ]
    },
    {
      "cell_type": "code",
      "metadata": {
        "id": "KROH4s3hvPBG",
        "colab_type": "code",
        "outputId": "4c277db9-ba52-4adb-97e1-cba2e8bde606",
        "colab": {
          "base_uri": "https://localhost:8080/",
          "height": 436
        }
      },
      "source": [
        "#pie chart of those who have and those who dont have a bank account\n",
        "account= FinancialDataset['bank_account'].value_counts()\n",
        "sizes=account.index\n",
        "plt.figure(figsize = (5,5), dpi = 100)\n",
        "plt.pie(account, labels = sizes, autopct = '%1.1f%%', shadow = True, explode = (0.1,0), startangle = 90)\n",
        "plt.axis('equal')\n",
        "plt.title('A Pie Chart of respondents with and without a bank account', color = 'gold')\n",
        "plt.show()\n",
        "#The pie chart indicates that 14.1% have a bank account while 85.9% do not have an account"
      ],
      "execution_count": 0,
      "outputs": [
        {
          "output_type": "display_data",
          "data": {
            "image/png": "[encoded data removed]",
            "text/plain": [
              "<Figure size 500x500 with 1 Axes>"
            ]
          },
          "metadata": {
            "tags": []
          }
        }
      ]
    },
    {
      "cell_type": "code",
      "metadata": {
        "id": "RSjNZBo7yCuK",
        "colab_type": "code",
        "outputId": "1a414534-2daf-483c-8d09-4f83c2c885b2",
        "colab": {
          "base_uri": "https://localhost:8080/",
          "height": 892
        }
      },
      "source": [
        "#pie chart of their educational level\n",
        "education= FinancialDataset['education_level'].value_counts()\n",
        "labels=education.index\n",
        "plt.figure(figsize = (10,10), dpi = 110)\n",
        "plt.pie(education, labels = labels, autopct = '%1.1f%%', shadow = True, explode = (0,0,0.1,0,0,0,0), startangle = 140)\n",
        "plt.axis('equal')\n",
        "plt.title('A Pie Chart of Respondents education level', color = 'green')\n",
        "plt.show()\n",
        "#The piechart indicates the percentage of different education level of the respondent with the highest being of primary education and lowest 6"
      ],
      "execution_count": 0,
      "outputs": [
        {
          "output_type": "display_data",
          "data": {
            "image/png": "[encoded data removed]",
            "text/plain": [
              "<Figure size 1100x1100 with 1 Axes>"
            ]
          },
          "metadata": {
            "tags": []
          }
        }
      ]
    },
    {
      "cell_type": "markdown",
      "metadata": {
        "id": "UHulMYkT3hBw",
        "colab_type": "text"
      },
      "source": [
        "\n",
        "\n",
        ">Bar Charts\n",
        "\n"
      ]
    },
    {
      "cell_type": "code",
      "metadata": {
        "id": "mNgFitsa3maH",
        "colab_type": "code",
        "outputId": "d5520a43-0ce1-4463-e49b-d8d7bed31391",
        "colab": {
          "base_uri": "https://localhost:8080/",
          "height": 403
        }
      },
      "source": [
        "#bar chart of the respondents gender\n",
        "plt.figure(dpi = 100)\n",
        "sns.countplot(FinancialDataset.gender_of_respondent)\n",
        "plt.title('A bar chart of the number of Respondents by gender', color = 'magenta')\n",
        "plt.show()\n",
        "#the bar chart shows the number of female and male respondents, the female being highest in number"
      ],
      "execution_count": 0,
      "outputs": [
        {
          "output_type": "display_data",
          "data": {
            "image/png": "[encoded data removed]",
            "text/plain": [
              "<Figure size 600x400 with 1 Axes>"
            ]
          },
          "metadata": {
            "tags": [],
            "needs_background": "light"
          }
        }
      ]
    },
    {
      "cell_type": "code",
      "metadata": {
        "id": "yzZ4X_JA5UgE",
        "colab_type": "code",
        "outputId": "d2f9d63e-0b3e-4201-a7ca-505941821c01",
        "colab": {
          "base_uri": "https://localhost:8080/",
          "height": 403
        }
      },
      "source": [
        "#horizontal bar chart of respondents country\n",
        "country = FinancialDataset.country .value_counts()\n",
        "labels= country.index\n",
        "\n",
        "plt.figure(figsize = (4,4), dpi = 100)\n",
        "plt.barh(labels, country, color = 'blue')\n",
        "plt.ylabel(\"country\")\n",
        "plt.xlabel('number')\n",
        "plt.title(\"A Bar chart of respondents country\", color = 'magenta')\n",
        "plt.show()\n",
        "# The horizontal bar plot below shows the respondents country having majority of them from Rwanda,Tanzania,Kenya and Uganda in that order"
      ],
      "execution_count": 0,
      "outputs": [
        {
          "output_type": "display_data",
          "data": {
            "image/png": "[encoded data removed]",
            "text/plain": [
              "<Figure size 400x400 with 1 Axes>"
            ]
          },
          "metadata": {
            "tags": []
          }
        }
      ]
    },
    {
      "cell_type": "markdown",
      "metadata": {
        "id": "434ZYKXz7ttA",
        "colab_type": "text"
      },
      "source": [
        "\n",
        "\n",
        ">Histograms\n",
        "\n"
      ]
    },
    {
      "cell_type": "code",
      "metadata": {
        "id": "Ddebkf167zZT",
        "colab_type": "code",
        "outputId": "e05be9da-7988-4a37-acfd-3f1dc6e3b1d9",
        "colab": {
          "base_uri": "https://localhost:8080/",
          "height": 403
        }
      },
      "source": [
        "#Histogram of respondents age\n",
        "age = FinancialDataset['age']\n",
        "plt.figure(dpi = 100)\n",
        "plt.hist(age, bins=10, histtype='bar', rwidth=0.9)\n",
        "plt.xlabel('age')\n",
        "plt.ylabel('Frequency')\n",
        "plt.title('Histogram of respondents age')\n",
        "plt.show()\n",
        "# the Histogram of the respondents age shows majority were of age 30-40"
      ],
      "execution_count": 0,
      "outputs": [
        {
          "output_type": "display_data",
          "data": {
            "image/png": "[encoded data removed]",
            "text/plain": [
              "<Figure size 600x400 with 1 Axes>"
            ]
          },
          "metadata": {
            "tags": []
          }
        }
      ]
    },
    {
      "cell_type": "code",
      "metadata": {
        "id": "MF7zYGgZ9ZTU",
        "colab_type": "code",
        "outputId": "cef197a6-0078-427d-acee-c49e98cabefa",
        "colab": {
          "base_uri": "https://localhost:8080/",
          "height": 403
        }
      },
      "source": [
        "#Histogram of respondent household_size\n",
        "plt.figure(dpi = 100)\n",
        "sns.distplot(FinancialDataset['household_size'], kde = False, color = 'green')  \n",
        "plt.title('A Histogram of respondent household size', color = 'blue')\n",
        "plt.ylabel('Frequency')\n",
        "plt.show()\n",
        "# The histogram of the respondent household size indicates that the majority had a household size of 3"
      ],
      "execution_count": 0,
      "outputs": [
        {
          "output_type": "display_data",
          "data": {
            "image/png": "[encoded data removed]",
            "text/plain": [
              "<Figure size 600x400 with 1 Axes>"
            ]
          },
          "metadata": {
            "tags": []
          }
        }
      ]
    },
    {
      "cell_type": "markdown",
      "metadata": {
        "id": "D4xhAeIHDzZb",
        "colab_type": "text"
      },
      "source": [
        "\n",
        "\n",
        "> Numerical Variables\n",
        "\n"
      ]
    },
    {
      "cell_type": "markdown",
      "metadata": {
        "id": "uZBAU7JsFAa7",
        "colab_type": "text"
      },
      "source": [
        "a)Measures of Central Tendency"
      ]
    },
    {
      "cell_type": "markdown",
      "metadata": {
        "id": "PxWlWf5RGqhb",
        "colab_type": "text"
      },
      "source": [
        "MEAN"
      ]
    },
    {
      "cell_type": "code",
      "metadata": {
        "id": "iVGXWBmWD4c2",
        "colab_type": "code",
        "outputId": "1038b673-9251-49e5-aacb-c4bc9d99bea5",
        "colab": {
          "base_uri": "https://localhost:8080/",
          "height": 33
        }
      },
      "source": [
        "# Mean of the respondent household size\n",
        "\n",
        "FinancialDataset.household_size.mean()\n",
        "\n",
        "# the mean of the household size is 3"
      ],
      "execution_count": 0,
      "outputs": [
        {
          "output_type": "execute_result",
          "data": {
            "text/plain": [
              "3.688560411311054"
            ]
          },
          "metadata": {
            "tags": []
          },
          "execution_count": 24
        }
      ]
    },
    {
      "cell_type": "code",
      "metadata": {
        "id": "Ce4gJ81nEk5q",
        "colab_type": "code",
        "outputId": "e8c1275a-ed63-436b-d24c-87eb6b9b2cba",
        "colab": {
          "base_uri": "https://localhost:8080/",
          "height": 33
        }
      },
      "source": [
        "# Mean of the respondent respondent age\n",
        "\n",
        "FinancialDataset.age.mean()\n",
        "\n",
        "# The mean of the respondent age is 38"
      ],
      "execution_count": 0,
      "outputs": [
        {
          "output_type": "execute_result",
          "data": {
            "text/plain": [
              "38.80706940874036"
            ]
          },
          "metadata": {
            "tags": []
          },
          "execution_count": 25
        }
      ]
    },
    {
      "cell_type": "markdown",
      "metadata": {
        "id": "rDNA90IPGmqA",
        "colab_type": "text"
      },
      "source": [
        "MEDIAN"
      ]
    },
    {
      "cell_type": "code",
      "metadata": {
        "id": "yY2stkC1F3tj",
        "colab_type": "code",
        "outputId": "ff09cc74-aa18-4dbf-a44b-39eb2dd361c8",
        "colab": {
          "base_uri": "https://localhost:8080/",
          "height": 33
        }
      },
      "source": [
        "# median of the respondent household_size\n",
        "\n",
        "FinancialDataset.household_size.median()\n",
        "\n",
        "# The median of the respondent household_size is 3"
      ],
      "execution_count": 0,
      "outputs": [
        {
          "output_type": "execute_result",
          "data": {
            "text/plain": [
              "3.0"
            ]
          },
          "metadata": {
            "tags": []
          },
          "execution_count": 26
        }
      ]
    },
    {
      "cell_type": "code",
      "metadata": {
        "id": "tD5wzc2RGFzz",
        "colab_type": "code",
        "outputId": "c0d9b620-8475-41ff-efbc-3489d0811caa",
        "colab": {
          "base_uri": "https://localhost:8080/",
          "height": 33
        }
      },
      "source": [
        "# Median of the respondent respondent age\n",
        "\n",
        "FinancialDataset.age.median()\n",
        "\n",
        "# The  Median of the respondent respondent age is 35"
      ],
      "execution_count": 0,
      "outputs": [
        {
          "output_type": "execute_result",
          "data": {
            "text/plain": [
              "35.0"
            ]
          },
          "metadata": {
            "tags": []
          },
          "execution_count": 27
        }
      ]
    },
    {
      "cell_type": "markdown",
      "metadata": {
        "id": "dCQWl-btGkJg",
        "colab_type": "text"
      },
      "source": [
        "MODE"
      ]
    },
    {
      "cell_type": "code",
      "metadata": {
        "id": "Cjj5woLUGO1i",
        "colab_type": "code",
        "outputId": "4660de86-9b59-4b66-e405-3bdd5082e325",
        "colab": {
          "base_uri": "https://localhost:8080/",
          "height": 50
        }
      },
      "source": [
        "# Mode of the respondent household size\n",
        "\n",
        "FinancialDataset.household_size.mode()\n",
        "\n",
        "# the Mode of the respondent household size is 2"
      ],
      "execution_count": 0,
      "outputs": [
        {
          "output_type": "execute_result",
          "data": {
            "text/plain": [
              "0    2.0\n",
              "dtype: float64"
            ]
          },
          "metadata": {
            "tags": []
          },
          "execution_count": 28
        }
      ]
    },
    {
      "cell_type": "code",
      "metadata": {
        "id": "8IMX2xL6GcFA",
        "colab_type": "code",
        "outputId": "55826eeb-2c80-4e7a-bb36-5d346db341f2",
        "colab": {
          "base_uri": "https://localhost:8080/",
          "height": 50
        }
      },
      "source": [
        "# Mode of the respondent respondent age\n",
        "\n",
        "FinancialDataset.age.mode()\n",
        "\n",
        "# the Mode of the respondent respondent age 30"
      ],
      "execution_count": 0,
      "outputs": [
        {
          "output_type": "execute_result",
          "data": {
            "text/plain": [
              "0    30.0\n",
              "dtype: float64"
            ]
          },
          "metadata": {
            "tags": []
          },
          "execution_count": 29
        }
      ]
    },
    {
      "cell_type": "markdown",
      "metadata": {
        "id": "vMzAl8x0FMvh",
        "colab_type": "text"
      },
      "source": [
        "b)Measures of Dispersion/Variability/Spread"
      ]
    },
    {
      "cell_type": "markdown",
      "metadata": {
        "id": "tPQfQYQdGy6m",
        "colab_type": "text"
      },
      "source": [
        "STANDARD DEVIATION"
      ]
    },
    {
      "cell_type": "code",
      "metadata": {
        "id": "aAxxVBSgFRBI",
        "colab_type": "code",
        "outputId": "7b96e799-e7dc-433a-d8e8-ca29fbd2ede2",
        "colab": {
          "base_uri": "https://localhost:8080/",
          "height": 33
        }
      },
      "source": [
        "#Standard deviation is the measurement of average distance between each quantity and mean. \n",
        "#standard Deviation of the household size\n",
        "\n",
        "FinancialDataset.household_size.std()\n",
        "\n",
        "#standard Deviation of the household size is 2.3, A low standard deviation indicates that the data points \n",
        "# tend to be close to the mean of the data set, while a high standard deviation indicates that the \n",
        "# data points are spread out over a wider range of values.\n"
      ],
      "execution_count": 0,
      "outputs": [
        {
          "output_type": "execute_result",
          "data": {
            "text/plain": [
              "2.2812745975350435"
            ]
          },
          "metadata": {
            "tags": []
          },
          "execution_count": 30
        }
      ]
    },
    {
      "cell_type": "code",
      "metadata": {
        "id": "cHTZm8kYG4Q8",
        "colab_type": "code",
        "outputId": "8ee790a6-cdbd-4b51-b33d-fb7618f06f45",
        "colab": {
          "base_uri": "https://localhost:8080/",
          "height": 33
        }
      },
      "source": [
        "# Standard Deviation of the respondent age\n",
        "\n",
        "FinancialDataset.age.std()\n",
        "\n",
        " #Standard Deviation of the respondent age is 16."
      ],
      "execution_count": 0,
      "outputs": [
        {
          "output_type": "execute_result",
          "data": {
            "text/plain": [
              "16.519904564514412"
            ]
          },
          "metadata": {
            "tags": []
          },
          "execution_count": 31
        }
      ]
    },
    {
      "cell_type": "markdown",
      "metadata": {
        "id": "sgxayJCpHMZm",
        "colab_type": "text"
      },
      "source": [
        "VARIANCE"
      ]
    },
    {
      "cell_type": "code",
      "metadata": {
        "id": "nbShBw7lHTdR",
        "colab_type": "code",
        "outputId": "000e2ef7-2954-455d-a602-85a4118da166",
        "colab": {
          "base_uri": "https://localhost:8080/",
          "height": 33
        }
      },
      "source": [
        "# Variance is a square of average distance between each quantity and mean. \n",
        "#variance of the household size\n",
        "\n",
        "FinancialDataset.household_size.var()\n",
        "\n",
        "# the variance of the household size 5.2,the variance tells you how scattered around the centre of mass the points are.\n",
        "#this tells you that the data have some similarities in the household size."
      ],
      "execution_count": 0,
      "outputs": [
        {
          "output_type": "execute_result",
          "data": {
            "text/plain": [
              "5.204213789358675"
            ]
          },
          "metadata": {
            "tags": []
          },
          "execution_count": 32
        }
      ]
    },
    {
      "cell_type": "code",
      "metadata": {
        "id": "TqeP1I_yHiY4",
        "colab_type": "code",
        "outputId": "ac571e7e-6d14-4665-b8b5-e4144e29b085",
        "colab": {
          "base_uri": "https://localhost:8080/",
          "height": 33
        }
      },
      "source": [
        "# variance of the respondent age\n",
        "\n",
        "FinancialDataset.age.var()\n",
        "\n",
        "# the variance of the respondent age is 272 this tells you that there are dis-similarities in respondent age"
      ],
      "execution_count": 0,
      "outputs": [
        {
          "output_type": "execute_result",
          "data": {
            "text/plain": [
              "272.90724682066417"
            ]
          },
          "metadata": {
            "tags": []
          },
          "execution_count": 33
        }
      ]
    },
    {
      "cell_type": "markdown",
      "metadata": {
        "id": "Lj7jW1v2Hs3Y",
        "colab_type": "text"
      },
      "source": [
        "RANGE"
      ]
    },
    {
      "cell_type": "code",
      "metadata": {
        "id": "DOopEnCNH3Ou",
        "colab_type": "code",
        "outputId": "1312b887-aef5-4292-e20f-cd062e74fe19",
        "colab": {
          "base_uri": "https://localhost:8080/",
          "height": 33
        }
      },
      "source": [
        "# It is the difference between lowest and highest value\n",
        "#Range of the household size\n",
        "\n",
        "household_Max = FinancialDataset.household_size.max()\n",
        "household_Min = FinancialDataset.household_size.min()\n",
        "household_Range = household_Max - household_Min\n",
        "household_Range\n",
        "\n",
        "# the Range of the household size is 21"
      ],
      "execution_count": 0,
      "outputs": [
        {
          "output_type": "execute_result",
          "data": {
            "text/plain": [
              "21.0"
            ]
          },
          "metadata": {
            "tags": []
          },
          "execution_count": 34
        }
      ]
    },
    {
      "cell_type": "code",
      "metadata": {
        "id": "d2zSn8GBIxeU",
        "colab_type": "code",
        "outputId": "c03ee12d-85ae-4234-edf9-32555e554eae",
        "colab": {
          "base_uri": "https://localhost:8080/",
          "height": 33
        }
      },
      "source": [
        "#Range of the respondent age\n",
        "age_max = FinancialDataset.age.max()\n",
        "age_min = FinancialDataset.age.min()\n",
        "age_range = age_max - age_min\n",
        "age_range\n",
        "\n",
        "#the Range of the respondent age is 84"
      ],
      "execution_count": 0,
      "outputs": [
        {
          "output_type": "execute_result",
          "data": {
            "text/plain": [
              "84.0"
            ]
          },
          "metadata": {
            "tags": []
          },
          "execution_count": 35
        }
      ]
    },
    {
      "cell_type": "markdown",
      "metadata": {
        "id": "yBAQe-5TJXpK",
        "colab_type": "text"
      },
      "source": [
        "QUANTILES"
      ]
    },
    {
      "cell_type": "code",
      "metadata": {
        "id": "0FCqw7UyJkdk",
        "colab_type": "code",
        "outputId": "91622f8a-e107-4f6f-8ebe-f0db469e523a",
        "colab": {
          "base_uri": "https://localhost:8080/",
          "height": 82
        }
      },
      "source": [
        " # quartiles are values that divide your data into quarters provided data is sorted in an ascending order. \n",
        "\n",
        "# Quantiles of the household_size\n",
        "# sorting data frame by household size \n",
        "FinancialDataset.sort_values(\"household_size\", axis = 0, ascending = True, \n",
        "                 inplace = True, na_position ='last') \n",
        "FinancialDataset[\"household_size\"].quantile([0.25,0.5,0.75])"
      ],
      "execution_count": 0,
      "outputs": [
        {
          "output_type": "execute_result",
          "data": {
            "text/plain": [
              "0.25    2.0\n",
              "0.50    3.0\n",
              "0.75    5.0\n",
              "Name: household_size, dtype: float64"
            ]
          },
          "metadata": {
            "tags": []
          },
          "execution_count": 124
        }
      ]
    },
    {
      "cell_type": "code",
      "metadata": {
        "id": "JeVF6JvXJyVr",
        "colab_type": "code",
        "outputId": "c2eac31c-eaa5-46a0-f923-bff38ce5b06d",
        "colab": {
          "base_uri": "https://localhost:8080/",
          "height": 82
        }
      },
      "source": [
        "# Quantiles of the respondent age\n",
        "# sorting data frame by respondent age\n",
        "FinancialDataset.sort_values(\"age\", axis = 0, ascending = True, \n",
        "                 inplace = True, na_position ='last') \n",
        "\n",
        "FinancialDataset[\"age\"].quantile([0.25,0.5,0.75])"
      ],
      "execution_count": 0,
      "outputs": [
        {
          "output_type": "execute_result",
          "data": {
            "text/plain": [
              "0.25    26.0\n",
              "0.50    35.0\n",
              "0.75    49.0\n",
              "Name: age, dtype: float64"
            ]
          },
          "metadata": {
            "tags": []
          },
          "execution_count": 125
        }
      ]
    },
    {
      "cell_type": "markdown",
      "metadata": {
        "id": "ERxBTRRVKKKZ",
        "colab_type": "text"
      },
      "source": [
        "SKEWNESS"
      ]
    },
    {
      "cell_type": "code",
      "metadata": {
        "id": "Gx96alT7KNVE",
        "colab_type": "code",
        "outputId": "9de28e7e-aa87-4f9c-cffe-d252500eb5a5",
        "colab": {
          "base_uri": "https://localhost:8080/",
          "height": 33
        }
      },
      "source": [
        "# Skewness is a measure of the asymmetry of the probability distribution\n",
        "\n",
        "# Skewness of the household size\n",
        "\n",
        "FinancialDataset.household_size.skew()\n",
        "\n",
        "# When a distribution is skewed to the right, the tail on the curve’s right-hand side is longer than the tail on the left-hand side, \n",
        "# and the mean is greater than the mode. This situation is also called positive skewness.in this case we have a positive skew 0.974."
      ],
      "execution_count": 0,
      "outputs": [
        {
          "output_type": "execute_result",
          "data": {
            "text/plain": [
              "0.9741827150450616"
            ]
          },
          "metadata": {
            "tags": []
          },
          "execution_count": 38
        }
      ]
    },
    {
      "cell_type": "code",
      "metadata": {
        "id": "GsvAkWBnKZhL",
        "colab_type": "code",
        "outputId": "f465d3ce-c8e1-446d-cec4-40b5a47a1e96",
        "colab": {
          "base_uri": "https://localhost:8080/",
          "height": 33
        }
      },
      "source": [
        "# skewness of respondent age\n",
        "\n",
        "FinancialDataset.age.skew()\n",
        "\n",
        "# the skewness of respondent age is positive 0.84"
      ],
      "execution_count": 0,
      "outputs": [
        {
          "output_type": "execute_result",
          "data": {
            "text/plain": [
              "0.8406145812311228"
            ]
          },
          "metadata": {
            "tags": []
          },
          "execution_count": 39
        }
      ]
    },
    {
      "cell_type": "markdown",
      "metadata": {
        "id": "sLPEgOTZKqhZ",
        "colab_type": "text"
      },
      "source": [
        "KURTOSIS"
      ]
    },
    {
      "cell_type": "code",
      "metadata": {
        "id": "xb1NFnRrKwsD",
        "colab_type": "code",
        "outputId": "15eeaf9a-6cf3-4c41-e113-57adb3d17ec1",
        "colab": {
          "base_uri": "https://localhost:8080/",
          "height": 33
        }
      },
      "source": [
        "#Kurtosis is a measure of whether the data are heavy-tailed (profusion of outliers)\n",
        "# or light-tailed (lack of outliers) relative to a normal distribution.\n",
        "# There are three types of Kurtosis: Mesokurtic, Leptokurtic, Mesokurtic and Platykurtic. \n",
        "# Mesokurtic is the distribution which has similar kurtosis as normal distribution kurtosis, which is zero.\n",
        "# Leptokurtic is the distribution which has kurtosis greater than a Mesokurtic distribution. Tails of such distributions are thick and heavy. \n",
        "# If the curve of a distribution is more peaked than Mesokurtic curve, it is referred to as a Leptokurtic curve.\n",
        "# ***\n",
        "# Platykurtic is the distribution which has kurtosis lesser than a Mesokurtic distribution. Tails of such distributions thinner. \n",
        "# If a curve of a distribution is less peaked than a Mesokurtic curve, it is referred to as a Platykurtic curve.\n",
        "# \n",
        "# If the kurtosis is close to 0, then a normal distribution is often assumed. These are called mesokurtic distributions. \n",
        "# If the kurtosis is less than zero, then the distribution is light tails and is called a platykurtic distribution.  \n",
        "# If the kurtosis is greater than zero, then the distribution has heavier tails and is called a leptokurtic distribution.\n",
        "\n",
        "# Kurtosis of the household size\n",
        "\n",
        "FinancialDataset.household_size.kurt()\n",
        "\n",
        "# the kurtosis of the household size is 1.2 which is greater than 0 then the distribution has heavier tail and is called leptokurtic."
      ],
      "execution_count": 0,
      "outputs": [
        {
          "output_type": "execute_result",
          "data": {
            "text/plain": [
              "1.1538357462528523"
            ]
          },
          "metadata": {
            "tags": []
          },
          "execution_count": 40
        }
      ]
    },
    {
      "cell_type": "code",
      "metadata": {
        "id": "32Bpu_cULCVE",
        "colab_type": "code",
        "outputId": "7179061d-e0bd-4da6-ddba-4eafaba3253d",
        "colab": {
          "base_uri": "https://localhost:8080/",
          "height": 33
        }
      },
      "source": [
        "# Kurtosis of respondent age\n",
        "\n",
        "FinancialDataset.age.kurt()\n",
        "\n",
        "# the kurtosis of respondent age is 0.1 which is closer to 0 then we assume its a normal distribution called mesokurtic"
      ],
      "execution_count": 0,
      "outputs": [
        {
          "output_type": "execute_result",
          "data": {
            "text/plain": [
              "0.09826807013177241"
            ]
          },
          "metadata": {
            "tags": []
          },
          "execution_count": 41
        }
      ]
    },
    {
      "cell_type": "markdown",
      "metadata": {
        "id": "-Mmq65qJLtuf",
        "colab_type": "text"
      },
      "source": [
        "# 2. Bivariate Analysis"
      ]
    },
    {
      "cell_type": "markdown",
      "metadata": {
        "id": "p8uCHXTTL-Si",
        "colab_type": "text"
      },
      "source": [
        "Scatter Plots"
      ]
    },
    {
      "cell_type": "code",
      "metadata": {
        "id": "HoFoQRT0N-la",
        "colab_type": "code",
        "outputId": "05d4faec-a499-4130-f132-73c5f4386a51",
        "colab": {
          "base_uri": "https://localhost:8080/",
          "height": 403
        }
      },
      "source": [
        "#Scatter plot of age vs household size\n",
        "\n",
        "plt.figure(dpi = 100)\n",
        "sns.regplot(x= FinancialDataset['age'], y= FinancialDataset['household_size'], fit_reg = False, color = 'red')\n",
        "plt.title(\"A scatter plot of household size vs Age\", color = 'purple')\n",
        "plt.show()\n",
        "\n",
        "# The scatter plot between age and household size show no correration at all since the plots are scattered unevenly."
      ],
      "execution_count": 0,
      "outputs": [
        {
          "output_type": "display_data",
          "data": {
            "image/png": "[encoded data removed]",
            "text/plain": [
              "<Figure size 600x400 with 1 Axes>"
            ]
          },
          "metadata": {
            "tags": []
          }
        }
      ]
    },
    {
      "cell_type": "markdown",
      "metadata": {
        "id": "cebY7H0xPz-s",
        "colab_type": "text"
      },
      "source": [
        "Correlation"
      ]
    },
    {
      "cell_type": "code",
      "metadata": {
        "id": "lC7ggYPbNnwl",
        "colab_type": "code",
        "outputId": "23afca3e-73e1-4243-b8eb-5b58a174ac59",
        "colab": {
          "base_uri": "https://localhost:8080/",
          "height": 33
        }
      },
      "source": [
        "#correlation coefficent of Age and Household size \n",
        "\n",
        "coeff = FinancialDataset[\"age\"].corr(FinancialDataset[\"household_size\"]) \n",
        "print(coeff)\n",
        "\n",
        "# the correlation between age and household size is -0.12 which is an indication of a weak correlation."
      ],
      "execution_count": 0,
      "outputs": [
        {
          "output_type": "stream",
          "text": [
            "-0.11967115234154871\n"
          ],
          "name": "stdout"
        }
      ]
    },
    {
      "cell_type": "code",
      "metadata": {
        "id": "A8447sFgYxTU",
        "colab_type": "code",
        "outputId": "21020942-c18c-491e-d3a7-e8f467ec623e",
        "colab": {
          "base_uri": "https://localhost:8080/",
          "height": 487
        }
      },
      "source": [
        "#corelation matrix using heatmaps\n",
        "f, ax = plt.subplots(figsize=(10, 8))\n",
        "corr = FinancialDataset.corr()\n",
        "sns.heatmap(corr, xticklabels = corr.columns, yticklabels=corr.columns, annot = True)\n",
        "plt.show()\n",
        "\n",
        "# the correlation between age, year and household size is  weak negative correlation with other variables other with themselves\n"
      ],
      "execution_count": 0,
      "outputs": [
        {
          "output_type": "display_data",
          "data": {
            "image/png": "[encoded data removed]",
            "text/plain": [
              "<Figure size 720x576 with 2 Axes>"
            ]
          },
          "metadata": {
            "tags": [],
            "needs_background": "light"
          }
        }
      ]
    },
    {
      "cell_type": "markdown",
      "metadata": {
        "id": "Qfx7RwivfJls",
        "colab_type": "text"
      },
      "source": [
        "# 3. Multivariate Analysis"
      ]
    },
    {
      "cell_type": "markdown",
      "metadata": {
        "id": "AOQFzKVlltP-",
        "colab_type": "text"
      },
      "source": [
        "# Reduction Techniques\n",
        "In reduction techniques we can  our bunch of variables into 2 or 3 significant ones Without losing the essence of the data collected."
      ]
    },
    {
      "cell_type": "markdown",
      "metadata": {
        "id": "cxNfkiTVZ00i",
        "colab_type": "text"
      },
      "source": [
        ""
      ]
    },
    {
      "cell_type": "markdown",
      "metadata": {
        "id": "zS6JeaWxfSTF",
        "colab_type": "text"
      },
      "source": [
        " Principal Component Analysis"
      ]
    },
    {
      "cell_type": "code",
      "metadata": {
        "id": "LFrO9o3chH4R",
        "colab_type": "code",
        "outputId": "62f62ea2-8e21-4956-9de5-7e4a68020046",
        "colab": {
          "base_uri": "https://localhost:8080/",
          "height": 82
        }
      },
      "source": [
        "FinancialDataset.columns"
      ],
      "execution_count": 0,
      "outputs": [
        {
          "output_type": "execute_result",
          "data": {
            "text/plain": [
              "Index(['country', 'year', 'bank_account', 'location', 'cellphone',\n",
              "       'household_size', 'age', 'gender_of_respondent', 'relationship',\n",
              "       'marital_status', 'education_level', 'job'],\n",
              "      dtype='object')"
            ]
          },
          "metadata": {
            "tags": []
          },
          "execution_count": 48
        }
      ]
    },
    {
      "cell_type": "code",
      "metadata": {
        "id": "OkS043xBgPme",
        "colab_type": "code",
        "outputId": "a5f6c2f6-2b71-40d0-b374-57598dd0bca8",
        "colab": {
          "base_uri": "https://localhost:8080/",
          "height": 243
        }
      },
      "source": [
        "# Converting the categories into dummy variables with ones and zeros\n",
        "df = pd.get_dummies(FinancialDataset[['country', 'location', 'cellphone','gender_of_respondent', 'relationship',\n",
        "       'marital_status', 'education_level', 'job']])\n",
        "df.head()"
      ],
      "execution_count": 0,
      "outputs": [
        {
          "output_type": "execute_result",
          "data": {
            "text/html": [
              "<div>\n",
              "<style scoped>\n",
              "    .dataframe tbody tr th:only-of-type {\n",
              "        vertical-align: middle;\n",
              "    }\n",
              "\n",
              "    .dataframe tbody tr th {\n",
              "        vertical-align: top;\n",
              "    }\n",
              "\n",
              "    .dataframe thead th {\n",
              "        text-align: right;\n",
              "    }\n",
              "</style>\n",
              "<table border=\"1\" class=\"dataframe\">\n",
              "  <thead>\n",
              "    <tr style=\"text-align: right;\">\n",
              "      <th></th>\n",
              "      <th>country_Kenya</th>\n",
              "      <th>country_Rwanda</th>\n",
              "      <th>country_Tanzania</th>\n",
              "      <th>country_Uganda</th>\n",
              "      <th>location_Rural</th>\n",
              "      <th>location_Urban</th>\n",
              "      <th>cellphone_No</th>\n",
              "      <th>cellphone_Yes</th>\n",
              "      <th>gender_of_respondent_Female</th>\n",
              "      <th>gender_of_respondent_Male</th>\n",
              "      <th>relationship_Child</th>\n",
              "      <th>relationship_Head of Household</th>\n",
              "      <th>relationship_Other non-relatives</th>\n",
              "      <th>relationship_Other relative</th>\n",
              "      <th>relationship_Parent</th>\n",
              "      <th>relationship_Spouse</th>\n",
              "      <th>marital_status_Divorced/Seperated</th>\n",
              "      <th>marital_status_Dont know</th>\n",
              "      <th>marital_status_Married/Living together</th>\n",
              "      <th>marital_status_Single/Never Married</th>\n",
              "      <th>marital_status_Widowed</th>\n",
              "      <th>education_level_6</th>\n",
              "      <th>education_level_No formal education</th>\n",
              "      <th>education_level_Other/Dont know/RTA</th>\n",
              "      <th>education_level_Primary education</th>\n",
              "      <th>education_level_Secondary education</th>\n",
              "      <th>education_level_Tertiary education</th>\n",
              "      <th>education_level_Vocational/Specialised training</th>\n",
              "      <th>job_Dont Know/Refuse to answer</th>\n",
              "      <th>job_Farming and Fishing</th>\n",
              "      <th>job_Formally employed Government</th>\n",
              "      <th>job_Formally employed Private</th>\n",
              "      <th>job_Government Dependent</th>\n",
              "      <th>job_Informally employed</th>\n",
              "      <th>job_No Income</th>\n",
              "      <th>job_Other Income</th>\n",
              "      <th>job_Remittance Dependent</th>\n",
              "      <th>job_Self employed</th>\n",
              "    </tr>\n",
              "  </thead>\n",
              "  <tbody>\n",
              "    <tr>\n",
              "      <th>0</th>\n",
              "      <td>1</td>\n",
              "      <td>0</td>\n",
              "      <td>0</td>\n",
              "      <td>0</td>\n",
              "      <td>1</td>\n",
              "      <td>0</td>\n",
              "      <td>0</td>\n",
              "      <td>1</td>\n",
              "      <td>1</td>\n",
              "      <td>0</td>\n",
              "      <td>0</td>\n",
              "      <td>0</td>\n",
              "      <td>0</td>\n",
              "      <td>0</td>\n",
              "      <td>0</td>\n",
              "      <td>1</td>\n",
              "      <td>0</td>\n",
              "      <td>0</td>\n",
              "      <td>1</td>\n",
              "      <td>0</td>\n",
              "      <td>0</td>\n",
              "      <td>0</td>\n",
              "      <td>0</td>\n",
              "      <td>0</td>\n",
              "      <td>0</td>\n",
              "      <td>1</td>\n",
              "      <td>0</td>\n",
              "      <td>0</td>\n",
              "      <td>0</td>\n",
              "      <td>0</td>\n",
              "      <td>0</td>\n",
              "      <td>0</td>\n",
              "      <td>0</td>\n",
              "      <td>0</td>\n",
              "      <td>0</td>\n",
              "      <td>0</td>\n",
              "      <td>0</td>\n",
              "      <td>1</td>\n",
              "    </tr>\n",
              "    <tr>\n",
              "      <th>1</th>\n",
              "      <td>1</td>\n",
              "      <td>0</td>\n",
              "      <td>0</td>\n",
              "      <td>0</td>\n",
              "      <td>1</td>\n",
              "      <td>0</td>\n",
              "      <td>1</td>\n",
              "      <td>0</td>\n",
              "      <td>1</td>\n",
              "      <td>0</td>\n",
              "      <td>0</td>\n",
              "      <td>1</td>\n",
              "      <td>0</td>\n",
              "      <td>0</td>\n",
              "      <td>0</td>\n",
              "      <td>0</td>\n",
              "      <td>0</td>\n",
              "      <td>0</td>\n",
              "      <td>0</td>\n",
              "      <td>0</td>\n",
              "      <td>1</td>\n",
              "      <td>0</td>\n",
              "      <td>1</td>\n",
              "      <td>0</td>\n",
              "      <td>0</td>\n",
              "      <td>0</td>\n",
              "      <td>0</td>\n",
              "      <td>0</td>\n",
              "      <td>0</td>\n",
              "      <td>0</td>\n",
              "      <td>0</td>\n",
              "      <td>0</td>\n",
              "      <td>1</td>\n",
              "      <td>0</td>\n",
              "      <td>0</td>\n",
              "      <td>0</td>\n",
              "      <td>0</td>\n",
              "      <td>0</td>\n",
              "    </tr>\n",
              "    <tr>\n",
              "      <th>2</th>\n",
              "      <td>1</td>\n",
              "      <td>0</td>\n",
              "      <td>0</td>\n",
              "      <td>0</td>\n",
              "      <td>0</td>\n",
              "      <td>1</td>\n",
              "      <td>0</td>\n",
              "      <td>1</td>\n",
              "      <td>0</td>\n",
              "      <td>1</td>\n",
              "      <td>0</td>\n",
              "      <td>0</td>\n",
              "      <td>0</td>\n",
              "      <td>1</td>\n",
              "      <td>0</td>\n",
              "      <td>0</td>\n",
              "      <td>0</td>\n",
              "      <td>0</td>\n",
              "      <td>0</td>\n",
              "      <td>1</td>\n",
              "      <td>0</td>\n",
              "      <td>0</td>\n",
              "      <td>0</td>\n",
              "      <td>0</td>\n",
              "      <td>0</td>\n",
              "      <td>0</td>\n",
              "      <td>0</td>\n",
              "      <td>1</td>\n",
              "      <td>0</td>\n",
              "      <td>0</td>\n",
              "      <td>0</td>\n",
              "      <td>0</td>\n",
              "      <td>0</td>\n",
              "      <td>0</td>\n",
              "      <td>0</td>\n",
              "      <td>0</td>\n",
              "      <td>0</td>\n",
              "      <td>1</td>\n",
              "    </tr>\n",
              "    <tr>\n",
              "      <th>3</th>\n",
              "      <td>1</td>\n",
              "      <td>0</td>\n",
              "      <td>0</td>\n",
              "      <td>0</td>\n",
              "      <td>1</td>\n",
              "      <td>0</td>\n",
              "      <td>0</td>\n",
              "      <td>1</td>\n",
              "      <td>1</td>\n",
              "      <td>0</td>\n",
              "      <td>0</td>\n",
              "      <td>1</td>\n",
              "      <td>0</td>\n",
              "      <td>0</td>\n",
              "      <td>0</td>\n",
              "      <td>0</td>\n",
              "      <td>0</td>\n",
              "      <td>0</td>\n",
              "      <td>1</td>\n",
              "      <td>0</td>\n",
              "      <td>0</td>\n",
              "      <td>0</td>\n",
              "      <td>0</td>\n",
              "      <td>0</td>\n",
              "      <td>1</td>\n",
              "      <td>0</td>\n",
              "      <td>0</td>\n",
              "      <td>0</td>\n",
              "      <td>0</td>\n",
              "      <td>0</td>\n",
              "      <td>0</td>\n",
              "      <td>1</td>\n",
              "      <td>0</td>\n",
              "      <td>0</td>\n",
              "      <td>0</td>\n",
              "      <td>0</td>\n",
              "      <td>0</td>\n",
              "      <td>0</td>\n",
              "    </tr>\n",
              "    <tr>\n",
              "      <th>4</th>\n",
              "      <td>1</td>\n",
              "      <td>0</td>\n",
              "      <td>0</td>\n",
              "      <td>0</td>\n",
              "      <td>0</td>\n",
              "      <td>1</td>\n",
              "      <td>1</td>\n",
              "      <td>0</td>\n",
              "      <td>0</td>\n",
              "      <td>1</td>\n",
              "      <td>1</td>\n",
              "      <td>0</td>\n",
              "      <td>0</td>\n",
              "      <td>0</td>\n",
              "      <td>0</td>\n",
              "      <td>0</td>\n",
              "      <td>0</td>\n",
              "      <td>0</td>\n",
              "      <td>0</td>\n",
              "      <td>1</td>\n",
              "      <td>0</td>\n",
              "      <td>0</td>\n",
              "      <td>0</td>\n",
              "      <td>0</td>\n",
              "      <td>1</td>\n",
              "      <td>0</td>\n",
              "      <td>0</td>\n",
              "      <td>0</td>\n",
              "      <td>0</td>\n",
              "      <td>0</td>\n",
              "      <td>0</td>\n",
              "      <td>0</td>\n",
              "      <td>0</td>\n",
              "      <td>1</td>\n",
              "      <td>0</td>\n",
              "      <td>0</td>\n",
              "      <td>0</td>\n",
              "      <td>0</td>\n",
              "    </tr>\n",
              "  </tbody>\n",
              "</table>\n",
              "</div>"
            ],
            "text/plain": [
              "   country_Kenya  country_Rwanda  ...  job_Remittance Dependent  job_Self employed\n",
              "0              1               0  ...                         0                  1\n",
              "1              1               0  ...                         0                  0\n",
              "2              1               0  ...                         0                  1\n",
              "3              1               0  ...                         0                  0\n",
              "4              1               0  ...                         0                  0\n",
              "\n",
              "[5 rows x 38 columns]"
            ]
          },
          "metadata": {
            "tags": []
          },
          "execution_count": 49
        }
      ]
    },
    {
      "cell_type": "code",
      "metadata": {
        "id": "R6HgvGTYk9T3",
        "colab_type": "code",
        "outputId": "6a637d7b-a393-4bf6-8ab9-5bcfac0a3ec7",
        "colab": {
          "base_uri": "https://localhost:8080/",
          "height": 341
        }
      },
      "source": [
        "#concanting our dummy dataframe with the original df\n",
        "Financial= pd.concat([FinancialDataset, df], axis = 1)\n",
        "Financial.head()"
      ],
      "execution_count": 0,
      "outputs": [
        {
          "output_type": "execute_result",
          "data": {
            "text/html": [
              "<div>\n",
              "<style scoped>\n",
              "    .dataframe tbody tr th:only-of-type {\n",
              "        vertical-align: middle;\n",
              "    }\n",
              "\n",
              "    .dataframe tbody tr th {\n",
              "        vertical-align: top;\n",
              "    }\n",
              "\n",
              "    .dataframe thead th {\n",
              "        text-align: right;\n",
              "    }\n",
              "</style>\n",
              "<table border=\"1\" class=\"dataframe\">\n",
              "  <thead>\n",
              "    <tr style=\"text-align: right;\">\n",
              "      <th></th>\n",
              "      <th>country</th>\n",
              "      <th>year</th>\n",
              "      <th>bank_account</th>\n",
              "      <th>location</th>\n",
              "      <th>cellphone</th>\n",
              "      <th>household_size</th>\n",
              "      <th>age</th>\n",
              "      <th>gender_of_respondent</th>\n",
              "      <th>relationship</th>\n",
              "      <th>marital_status</th>\n",
              "      <th>education_level</th>\n",
              "      <th>job</th>\n",
              "      <th>country_Kenya</th>\n",
              "      <th>country_Rwanda</th>\n",
              "      <th>country_Tanzania</th>\n",
              "      <th>country_Uganda</th>\n",
              "      <th>location_Rural</th>\n",
              "      <th>location_Urban</th>\n",
              "      <th>cellphone_No</th>\n",
              "      <th>cellphone_Yes</th>\n",
              "      <th>gender_of_respondent_Female</th>\n",
              "      <th>gender_of_respondent_Male</th>\n",
              "      <th>relationship_Child</th>\n",
              "      <th>relationship_Head of Household</th>\n",
              "      <th>relationship_Other non-relatives</th>\n",
              "      <th>relationship_Other relative</th>\n",
              "      <th>relationship_Parent</th>\n",
              "      <th>relationship_Spouse</th>\n",
              "      <th>marital_status_Divorced/Seperated</th>\n",
              "      <th>marital_status_Dont know</th>\n",
              "      <th>marital_status_Married/Living together</th>\n",
              "      <th>marital_status_Single/Never Married</th>\n",
              "      <th>marital_status_Widowed</th>\n",
              "      <th>education_level_6</th>\n",
              "      <th>education_level_No formal education</th>\n",
              "      <th>education_level_Other/Dont know/RTA</th>\n",
              "      <th>education_level_Primary education</th>\n",
              "      <th>education_level_Secondary education</th>\n",
              "      <th>education_level_Tertiary education</th>\n",
              "      <th>education_level_Vocational/Specialised training</th>\n",
              "      <th>job_Dont Know/Refuse to answer</th>\n",
              "      <th>job_Farming and Fishing</th>\n",
              "      <th>job_Formally employed Government</th>\n",
              "      <th>job_Formally employed Private</th>\n",
              "      <th>job_Government Dependent</th>\n",
              "      <th>job_Informally employed</th>\n",
              "      <th>job_No Income</th>\n",
              "      <th>job_Other Income</th>\n",
              "      <th>job_Remittance Dependent</th>\n",
              "      <th>job_Self employed</th>\n",
              "    </tr>\n",
              "  </thead>\n",
              "  <tbody>\n",
              "    <tr>\n",
              "      <th>0</th>\n",
              "      <td>Kenya</td>\n",
              "      <td>2018</td>\n",
              "      <td>Yes</td>\n",
              "      <td>Rural</td>\n",
              "      <td>Yes</td>\n",
              "      <td>3.0</td>\n",
              "      <td>24.0</td>\n",
              "      <td>Female</td>\n",
              "      <td>Spouse</td>\n",
              "      <td>Married/Living together</td>\n",
              "      <td>Secondary education</td>\n",
              "      <td>Self employed</td>\n",
              "      <td>1</td>\n",
              "      <td>0</td>\n",
              "      <td>0</td>\n",
              "      <td>0</td>\n",
              "      <td>1</td>\n",
              "      <td>0</td>\n",
              "      <td>0</td>\n",
              "      <td>1</td>\n",
              "      <td>1</td>\n",
              "      <td>0</td>\n",
              "      <td>0</td>\n",
              "      <td>0</td>\n",
              "      <td>0</td>\n",
              "      <td>0</td>\n",
              "      <td>0</td>\n",
              "      <td>1</td>\n",
              "      <td>0</td>\n",
              "      <td>0</td>\n",
              "      <td>1</td>\n",
              "      <td>0</td>\n",
              "      <td>0</td>\n",
              "      <td>0</td>\n",
              "      <td>0</td>\n",
              "      <td>0</td>\n",
              "      <td>0</td>\n",
              "      <td>1</td>\n",
              "      <td>0</td>\n",
              "      <td>0</td>\n",
              "      <td>0</td>\n",
              "      <td>0</td>\n",
              "      <td>0</td>\n",
              "      <td>0</td>\n",
              "      <td>0</td>\n",
              "      <td>0</td>\n",
              "      <td>0</td>\n",
              "      <td>0</td>\n",
              "      <td>0</td>\n",
              "      <td>1</td>\n",
              "    </tr>\n",
              "    <tr>\n",
              "      <th>1</th>\n",
              "      <td>Kenya</td>\n",
              "      <td>2018</td>\n",
              "      <td>No</td>\n",
              "      <td>Rural</td>\n",
              "      <td>No</td>\n",
              "      <td>5.0</td>\n",
              "      <td>70.0</td>\n",
              "      <td>Female</td>\n",
              "      <td>Head of Household</td>\n",
              "      <td>Widowed</td>\n",
              "      <td>No formal education</td>\n",
              "      <td>Government Dependent</td>\n",
              "      <td>1</td>\n",
              "      <td>0</td>\n",
              "      <td>0</td>\n",
              "      <td>0</td>\n",
              "      <td>1</td>\n",
              "      <td>0</td>\n",
              "      <td>1</td>\n",
              "      <td>0</td>\n",
              "      <td>1</td>\n",
              "      <td>0</td>\n",
              "      <td>0</td>\n",
              "      <td>1</td>\n",
              "      <td>0</td>\n",
              "      <td>0</td>\n",
              "      <td>0</td>\n",
              "      <td>0</td>\n",
              "      <td>0</td>\n",
              "      <td>0</td>\n",
              "      <td>0</td>\n",
              "      <td>0</td>\n",
              "      <td>1</td>\n",
              "      <td>0</td>\n",
              "      <td>1</td>\n",
              "      <td>0</td>\n",
              "      <td>0</td>\n",
              "      <td>0</td>\n",
              "      <td>0</td>\n",
              "      <td>0</td>\n",
              "      <td>0</td>\n",
              "      <td>0</td>\n",
              "      <td>0</td>\n",
              "      <td>0</td>\n",
              "      <td>1</td>\n",
              "      <td>0</td>\n",
              "      <td>0</td>\n",
              "      <td>0</td>\n",
              "      <td>0</td>\n",
              "      <td>0</td>\n",
              "    </tr>\n",
              "    <tr>\n",
              "      <th>2</th>\n",
              "      <td>Kenya</td>\n",
              "      <td>2018</td>\n",
              "      <td>Yes</td>\n",
              "      <td>Urban</td>\n",
              "      <td>Yes</td>\n",
              "      <td>5.0</td>\n",
              "      <td>26.0</td>\n",
              "      <td>Male</td>\n",
              "      <td>Other relative</td>\n",
              "      <td>Single/Never Married</td>\n",
              "      <td>Vocational/Specialised training</td>\n",
              "      <td>Self employed</td>\n",
              "      <td>1</td>\n",
              "      <td>0</td>\n",
              "      <td>0</td>\n",
              "      <td>0</td>\n",
              "      <td>0</td>\n",
              "      <td>1</td>\n",
              "      <td>0</td>\n",
              "      <td>1</td>\n",
              "      <td>0</td>\n",
              "      <td>1</td>\n",
              "      <td>0</td>\n",
              "      <td>0</td>\n",
              "      <td>0</td>\n",
              "      <td>1</td>\n",
              "      <td>0</td>\n",
              "      <td>0</td>\n",
              "      <td>0</td>\n",
              "      <td>0</td>\n",
              "      <td>0</td>\n",
              "      <td>1</td>\n",
              "      <td>0</td>\n",
              "      <td>0</td>\n",
              "      <td>0</td>\n",
              "      <td>0</td>\n",
              "      <td>0</td>\n",
              "      <td>0</td>\n",
              "      <td>0</td>\n",
              "      <td>1</td>\n",
              "      <td>0</td>\n",
              "      <td>0</td>\n",
              "      <td>0</td>\n",
              "      <td>0</td>\n",
              "      <td>0</td>\n",
              "      <td>0</td>\n",
              "      <td>0</td>\n",
              "      <td>0</td>\n",
              "      <td>0</td>\n",
              "      <td>1</td>\n",
              "    </tr>\n",
              "    <tr>\n",
              "      <th>3</th>\n",
              "      <td>Kenya</td>\n",
              "      <td>2018</td>\n",
              "      <td>No</td>\n",
              "      <td>Rural</td>\n",
              "      <td>Yes</td>\n",
              "      <td>5.0</td>\n",
              "      <td>34.0</td>\n",
              "      <td>Female</td>\n",
              "      <td>Head of Household</td>\n",
              "      <td>Married/Living together</td>\n",
              "      <td>Primary education</td>\n",
              "      <td>Formally employed Private</td>\n",
              "      <td>1</td>\n",
              "      <td>0</td>\n",
              "      <td>0</td>\n",
              "      <td>0</td>\n",
              "      <td>1</td>\n",
              "      <td>0</td>\n",
              "      <td>0</td>\n",
              "      <td>1</td>\n",
              "      <td>1</td>\n",
              "      <td>0</td>\n",
              "      <td>0</td>\n",
              "      <td>1</td>\n",
              "      <td>0</td>\n",
              "      <td>0</td>\n",
              "      <td>0</td>\n",
              "      <td>0</td>\n",
              "      <td>0</td>\n",
              "      <td>0</td>\n",
              "      <td>1</td>\n",
              "      <td>0</td>\n",
              "      <td>0</td>\n",
              "      <td>0</td>\n",
              "      <td>0</td>\n",
              "      <td>0</td>\n",
              "      <td>1</td>\n",
              "      <td>0</td>\n",
              "      <td>0</td>\n",
              "      <td>0</td>\n",
              "      <td>0</td>\n",
              "      <td>0</td>\n",
              "      <td>0</td>\n",
              "      <td>1</td>\n",
              "      <td>0</td>\n",
              "      <td>0</td>\n",
              "      <td>0</td>\n",
              "      <td>0</td>\n",
              "      <td>0</td>\n",
              "      <td>0</td>\n",
              "    </tr>\n",
              "    <tr>\n",
              "      <th>4</th>\n",
              "      <td>Kenya</td>\n",
              "      <td>2018</td>\n",
              "      <td>No</td>\n",
              "      <td>Urban</td>\n",
              "      <td>No</td>\n",
              "      <td>8.0</td>\n",
              "      <td>26.0</td>\n",
              "      <td>Male</td>\n",
              "      <td>Child</td>\n",
              "      <td>Single/Never Married</td>\n",
              "      <td>Primary education</td>\n",
              "      <td>Informally employed</td>\n",
              "      <td>1</td>\n",
              "      <td>0</td>\n",
              "      <td>0</td>\n",
              "      <td>0</td>\n",
              "      <td>0</td>\n",
              "      <td>1</td>\n",
              "      <td>1</td>\n",
              "      <td>0</td>\n",
              "      <td>0</td>\n",
              "      <td>1</td>\n",
              "      <td>1</td>\n",
              "      <td>0</td>\n",
              "      <td>0</td>\n",
              "      <td>0</td>\n",
              "      <td>0</td>\n",
              "      <td>0</td>\n",
              "      <td>0</td>\n",
              "      <td>0</td>\n",
              "      <td>0</td>\n",
              "      <td>1</td>\n",
              "      <td>0</td>\n",
              "      <td>0</td>\n",
              "      <td>0</td>\n",
              "      <td>0</td>\n",
              "      <td>1</td>\n",
              "      <td>0</td>\n",
              "      <td>0</td>\n",
              "      <td>0</td>\n",
              "      <td>0</td>\n",
              "      <td>0</td>\n",
              "      <td>0</td>\n",
              "      <td>0</td>\n",
              "      <td>0</td>\n",
              "      <td>1</td>\n",
              "      <td>0</td>\n",
              "      <td>0</td>\n",
              "      <td>0</td>\n",
              "      <td>0</td>\n",
              "    </tr>\n",
              "  </tbody>\n",
              "</table>\n",
              "</div>"
            ],
            "text/plain": [
              "  country  year  ... job_Remittance Dependent job_Self employed\n",
              "0   Kenya  2018  ...                        0                 1\n",
              "1   Kenya  2018  ...                        0                 0\n",
              "2   Kenya  2018  ...                        0                 1\n",
              "3   Kenya  2018  ...                        0                 0\n",
              "4   Kenya  2018  ...                        0                 0\n",
              "\n",
              "[5 rows x 50 columns]"
            ]
          },
          "metadata": {
            "tags": []
          },
          "execution_count": 50
        }
      ]
    },
    {
      "cell_type": "markdown",
      "metadata": {
        "id": "zok0_Oo_m5im",
        "colab_type": "text"
      },
      "source": [
        "Preprocessing"
      ]
    },
    {
      "cell_type": "code",
      "metadata": {
        "id": "KzDjrS12m4b-",
        "colab_type": "code",
        "colab": {}
      },
      "source": [
        "# Step 1\n",
        "#The first preprocessing step is to divide the dataset into a feature set and corresponding labels. \n",
        "# The following script performs this task. The script below stores the feature sets into the X variable \n",
        "# and the series of corresponding labels in to the y variable.\n",
        "X = Financial.drop(columns = ['country', 'bank_account', 'location', 'cellphone',\n",
        "       'household_size', 'age', 'gender_of_respondent', 'relationship',\n",
        "       'marital_status', 'education_level', 'job'], axis = 1)\n",
        "y = Financial['bank_account']"
      ],
      "execution_count": 0,
      "outputs": []
    },
    {
      "cell_type": "code",
      "metadata": {
        "id": "zqPbJwdZsjip",
        "colab_type": "code",
        "outputId": "2cf72b66-22d0-4e4e-beed-4a19da89a8e9",
        "colab": {
          "base_uri": "https://localhost:8080/",
          "height": 243
        }
      },
      "source": [
        "X.head()"
      ],
      "execution_count": 0,
      "outputs": [
        {
          "output_type": "execute_result",
          "data": {
            "text/html": [
              "<div>\n",
              "<style scoped>\n",
              "    .dataframe tbody tr th:only-of-type {\n",
              "        vertical-align: middle;\n",
              "    }\n",
              "\n",
              "    .dataframe tbody tr th {\n",
              "        vertical-align: top;\n",
              "    }\n",
              "\n",
              "    .dataframe thead th {\n",
              "        text-align: right;\n",
              "    }\n",
              "</style>\n",
              "<table border=\"1\" class=\"dataframe\">\n",
              "  <thead>\n",
              "    <tr style=\"text-align: right;\">\n",
              "      <th></th>\n",
              "      <th>year</th>\n",
              "      <th>country_Kenya</th>\n",
              "      <th>country_Rwanda</th>\n",
              "      <th>country_Tanzania</th>\n",
              "      <th>country_Uganda</th>\n",
              "      <th>location_Rural</th>\n",
              "      <th>location_Urban</th>\n",
              "      <th>cellphone_No</th>\n",
              "      <th>cellphone_Yes</th>\n",
              "      <th>gender_of_respondent_Female</th>\n",
              "      <th>gender_of_respondent_Male</th>\n",
              "      <th>relationship_Child</th>\n",
              "      <th>relationship_Head of Household</th>\n",
              "      <th>relationship_Other non-relatives</th>\n",
              "      <th>relationship_Other relative</th>\n",
              "      <th>relationship_Parent</th>\n",
              "      <th>relationship_Spouse</th>\n",
              "      <th>marital_status_Divorced/Seperated</th>\n",
              "      <th>marital_status_Dont know</th>\n",
              "      <th>marital_status_Married/Living together</th>\n",
              "      <th>marital_status_Single/Never Married</th>\n",
              "      <th>marital_status_Widowed</th>\n",
              "      <th>education_level_6</th>\n",
              "      <th>education_level_No formal education</th>\n",
              "      <th>education_level_Other/Dont know/RTA</th>\n",
              "      <th>education_level_Primary education</th>\n",
              "      <th>education_level_Secondary education</th>\n",
              "      <th>education_level_Tertiary education</th>\n",
              "      <th>education_level_Vocational/Specialised training</th>\n",
              "      <th>job_Dont Know/Refuse to answer</th>\n",
              "      <th>job_Farming and Fishing</th>\n",
              "      <th>job_Formally employed Government</th>\n",
              "      <th>job_Formally employed Private</th>\n",
              "      <th>job_Government Dependent</th>\n",
              "      <th>job_Informally employed</th>\n",
              "      <th>job_No Income</th>\n",
              "      <th>job_Other Income</th>\n",
              "      <th>job_Remittance Dependent</th>\n",
              "      <th>job_Self employed</th>\n",
              "    </tr>\n",
              "  </thead>\n",
              "  <tbody>\n",
              "    <tr>\n",
              "      <th>0</th>\n",
              "      <td>2018</td>\n",
              "      <td>1</td>\n",
              "      <td>0</td>\n",
              "      <td>0</td>\n",
              "      <td>0</td>\n",
              "      <td>1</td>\n",
              "      <td>0</td>\n",
              "      <td>0</td>\n",
              "      <td>1</td>\n",
              "      <td>1</td>\n",
              "      <td>0</td>\n",
              "      <td>0</td>\n",
              "      <td>0</td>\n",
              "      <td>0</td>\n",
              "      <td>0</td>\n",
              "      <td>0</td>\n",
              "      <td>1</td>\n",
              "      <td>0</td>\n",
              "      <td>0</td>\n",
              "      <td>1</td>\n",
              "      <td>0</td>\n",
              "      <td>0</td>\n",
              "      <td>0</td>\n",
              "      <td>0</td>\n",
              "      <td>0</td>\n",
              "      <td>0</td>\n",
              "      <td>1</td>\n",
              "      <td>0</td>\n",
              "      <td>0</td>\n",
              "      <td>0</td>\n",
              "      <td>0</td>\n",
              "      <td>0</td>\n",
              "      <td>0</td>\n",
              "      <td>0</td>\n",
              "      <td>0</td>\n",
              "      <td>0</td>\n",
              "      <td>0</td>\n",
              "      <td>0</td>\n",
              "      <td>1</td>\n",
              "    </tr>\n",
              "    <tr>\n",
              "      <th>1</th>\n",
              "      <td>2018</td>\n",
              "      <td>1</td>\n",
              "      <td>0</td>\n",
              "      <td>0</td>\n",
              "      <td>0</td>\n",
              "      <td>1</td>\n",
              "      <td>0</td>\n",
              "      <td>1</td>\n",
              "      <td>0</td>\n",
              "      <td>1</td>\n",
              "      <td>0</td>\n",
              "      <td>0</td>\n",
              "      <td>1</td>\n",
              "      <td>0</td>\n",
              "      <td>0</td>\n",
              "      <td>0</td>\n",
              "      <td>0</td>\n",
              "      <td>0</td>\n",
              "      <td>0</td>\n",
              "      <td>0</td>\n",
              "      <td>0</td>\n",
              "      <td>1</td>\n",
              "      <td>0</td>\n",
              "      <td>1</td>\n",
              "      <td>0</td>\n",
              "      <td>0</td>\n",
              "      <td>0</td>\n",
              "      <td>0</td>\n",
              "      <td>0</td>\n",
              "      <td>0</td>\n",
              "      <td>0</td>\n",
              "      <td>0</td>\n",
              "      <td>0</td>\n",
              "      <td>1</td>\n",
              "      <td>0</td>\n",
              "      <td>0</td>\n",
              "      <td>0</td>\n",
              "      <td>0</td>\n",
              "      <td>0</td>\n",
              "    </tr>\n",
              "    <tr>\n",
              "      <th>2</th>\n",
              "      <td>2018</td>\n",
              "      <td>1</td>\n",
              "      <td>0</td>\n",
              "      <td>0</td>\n",
              "      <td>0</td>\n",
              "      <td>0</td>\n",
              "      <td>1</td>\n",
              "      <td>0</td>\n",
              "      <td>1</td>\n",
              "      <td>0</td>\n",
              "      <td>1</td>\n",
              "      <td>0</td>\n",
              "      <td>0</td>\n",
              "      <td>0</td>\n",
              "      <td>1</td>\n",
              "      <td>0</td>\n",
              "      <td>0</td>\n",
              "      <td>0</td>\n",
              "      <td>0</td>\n",
              "      <td>0</td>\n",
              "      <td>1</td>\n",
              "      <td>0</td>\n",
              "      <td>0</td>\n",
              "      <td>0</td>\n",
              "      <td>0</td>\n",
              "      <td>0</td>\n",
              "      <td>0</td>\n",
              "      <td>0</td>\n",
              "      <td>1</td>\n",
              "      <td>0</td>\n",
              "      <td>0</td>\n",
              "      <td>0</td>\n",
              "      <td>0</td>\n",
              "      <td>0</td>\n",
              "      <td>0</td>\n",
              "      <td>0</td>\n",
              "      <td>0</td>\n",
              "      <td>0</td>\n",
              "      <td>1</td>\n",
              "    </tr>\n",
              "    <tr>\n",
              "      <th>3</th>\n",
              "      <td>2018</td>\n",
              "      <td>1</td>\n",
              "      <td>0</td>\n",
              "      <td>0</td>\n",
              "      <td>0</td>\n",
              "      <td>1</td>\n",
              "      <td>0</td>\n",
              "      <td>0</td>\n",
              "      <td>1</td>\n",
              "      <td>1</td>\n",
              "      <td>0</td>\n",
              "      <td>0</td>\n",
              "      <td>1</td>\n",
              "      <td>0</td>\n",
              "      <td>0</td>\n",
              "      <td>0</td>\n",
              "      <td>0</td>\n",
              "      <td>0</td>\n",
              "      <td>0</td>\n",
              "      <td>1</td>\n",
              "      <td>0</td>\n",
              "      <td>0</td>\n",
              "      <td>0</td>\n",
              "      <td>0</td>\n",
              "      <td>0</td>\n",
              "      <td>1</td>\n",
              "      <td>0</td>\n",
              "      <td>0</td>\n",
              "      <td>0</td>\n",
              "      <td>0</td>\n",
              "      <td>0</td>\n",
              "      <td>0</td>\n",
              "      <td>1</td>\n",
              "      <td>0</td>\n",
              "      <td>0</td>\n",
              "      <td>0</td>\n",
              "      <td>0</td>\n",
              "      <td>0</td>\n",
              "      <td>0</td>\n",
              "    </tr>\n",
              "    <tr>\n",
              "      <th>4</th>\n",
              "      <td>2018</td>\n",
              "      <td>1</td>\n",
              "      <td>0</td>\n",
              "      <td>0</td>\n",
              "      <td>0</td>\n",
              "      <td>0</td>\n",
              "      <td>1</td>\n",
              "      <td>1</td>\n",
              "      <td>0</td>\n",
              "      <td>0</td>\n",
              "      <td>1</td>\n",
              "      <td>1</td>\n",
              "      <td>0</td>\n",
              "      <td>0</td>\n",
              "      <td>0</td>\n",
              "      <td>0</td>\n",
              "      <td>0</td>\n",
              "      <td>0</td>\n",
              "      <td>0</td>\n",
              "      <td>0</td>\n",
              "      <td>1</td>\n",
              "      <td>0</td>\n",
              "      <td>0</td>\n",
              "      <td>0</td>\n",
              "      <td>0</td>\n",
              "      <td>1</td>\n",
              "      <td>0</td>\n",
              "      <td>0</td>\n",
              "      <td>0</td>\n",
              "      <td>0</td>\n",
              "      <td>0</td>\n",
              "      <td>0</td>\n",
              "      <td>0</td>\n",
              "      <td>0</td>\n",
              "      <td>1</td>\n",
              "      <td>0</td>\n",
              "      <td>0</td>\n",
              "      <td>0</td>\n",
              "      <td>0</td>\n",
              "    </tr>\n",
              "  </tbody>\n",
              "</table>\n",
              "</div>"
            ],
            "text/plain": [
              "   year  country_Kenya  ...  job_Remittance Dependent  job_Self employed\n",
              "0  2018              1  ...                         0                  1\n",
              "1  2018              1  ...                         0                  0\n",
              "2  2018              1  ...                         0                  1\n",
              "3  2018              1  ...                         0                  0\n",
              "4  2018              1  ...                         0                  0\n",
              "\n",
              "[5 rows x 39 columns]"
            ]
          },
          "metadata": {
            "tags": []
          },
          "execution_count": 52
        }
      ]
    },
    {
      "cell_type": "code",
      "metadata": {
        "id": "8Zqy39t_cpkM",
        "colab_type": "code",
        "outputId": "5a9291de-7233-496c-fe50-bac9e0a2113d",
        "colab": {
          "base_uri": "https://localhost:8080/",
          "height": 33
        }
      },
      "source": [
        "X.shape"
      ],
      "execution_count": 0,
      "outputs": [
        {
          "output_type": "execute_result",
          "data": {
            "text/plain": [
              "(23340, 39)"
            ]
          },
          "metadata": {
            "tags": []
          },
          "execution_count": 59
        }
      ]
    },
    {
      "cell_type": "code",
      "metadata": {
        "id": "fkQHutNus9LC",
        "colab_type": "code",
        "outputId": "c97a7882-fe92-4165-cac4-1567d499f0e4",
        "colab": {
          "base_uri": "https://localhost:8080/",
          "height": 115
        }
      },
      "source": [
        "y.head()"
      ],
      "execution_count": 0,
      "outputs": [
        {
          "output_type": "execute_result",
          "data": {
            "text/plain": [
              "0    Yes\n",
              "1     No\n",
              "2    Yes\n",
              "3     No\n",
              "4     No\n",
              "Name: bank_account, dtype: object"
            ]
          },
          "metadata": {
            "tags": []
          },
          "execution_count": 53
        }
      ]
    },
    {
      "cell_type": "code",
      "metadata": {
        "id": "odHCOkv1obz-",
        "colab_type": "code",
        "colab": {}
      },
      "source": [
        "# Step 2\n",
        "#Splitting the dataset into the Training set and Test set\n",
        "# The next preprocessing step is to divide data into training and test sets. \n",
        "# We execute the following script to do so:\n",
        "X_train, X_test, y_train, y_test = train_test_split(X, y, test_size = 0.2, random_state = 0)"
      ],
      "execution_count": 0,
      "outputs": []
    },
    {
      "cell_type": "code",
      "metadata": {
        "id": "bXyRqtncpNmQ",
        "colab_type": "code",
        "colab": {}
      },
      "source": [
        "# Step 3\n",
        "#Normalization \n",
        "# We will perform standard scalar normalization to normalize our feature set. \n",
        "# To do this, we execute the following code:\n",
        "sc = StandardScaler()\n",
        "X_train = sc.fit_transform(X_train)\n",
        "X_test = sc.fit_transform(X_test)"
      ],
      "execution_count": 0,
      "outputs": []
    },
    {
      "cell_type": "code",
      "metadata": {
        "id": "UNzIWSUTpnsJ",
        "colab_type": "code",
        "colab": {}
      },
      "source": [
        "# Step 4\n",
        "# Applying PCA\n",
        "\n",
        "pca = PCA(0.95)\n",
        "X_train = pca.fit_transform(X_train)\n",
        "X_test = pca.fit_transform(X_test)"
      ],
      "execution_count": 0,
      "outputs": []
    },
    {
      "cell_type": "code",
      "metadata": {
        "id": "14aDHP6hqWvz",
        "colab_type": "code",
        "outputId": "e5c49f45-316f-451b-d202-a35710684d91",
        "colab": {
          "base_uri": "https://localhost:8080/",
          "height": 115
        }
      },
      "source": [
        " # Step 5\n",
        " # Explained Variance Ratio\n",
        " #The PCA class contains explained_variance_ratio_ which returns the variance caused by each of the principal components. \n",
        " # We execute the following line of code to find the \"explained variance ratio\".\n",
        "explained_variance = pca.explained_variance_ratio_\n",
        "explained_variance"
      ],
      "execution_count": 0,
      "outputs": [
        {
          "output_type": "execute_result",
          "data": {
            "text/plain": [
              "array([0.10153005, 0.07592334, 0.06680469, 0.05968309, 0.05310153,\n",
              "       0.04452412, 0.04236606, 0.03753098, 0.03662307, 0.03403557,\n",
              "       0.03095903, 0.02901555, 0.02844533, 0.02807928, 0.02612387,\n",
              "       0.02588803, 0.0258336 , 0.02555692, 0.02529738, 0.02451124,\n",
              "       0.02420081, 0.02311547, 0.022661  , 0.02202173, 0.01992192,\n",
              "       0.01736616])"
            ]
          },
          "metadata": {
            "tags": []
          },
          "execution_count": 57
        }
      ]
    },
    {
      "cell_type": "code",
      "metadata": {
        "id": "a67omiKvrRPm",
        "colab_type": "code",
        "colab": {}
      },
      "source": [
        "# Step 6\n",
        "#Using  Principal Component\n",
        "# Let's first try to use 1 principal component to train our algorithm. To do so, execute the following code:\n",
        "pca = PCA(n_components= 1)\n",
        "X_train = pca.fit_transform(X_train)\n",
        "X_test = pca.transform(X_test)"
      ],
      "execution_count": 0,
      "outputs": []
    },
    {
      "cell_type": "code",
      "metadata": {
        "id": "rV6jGFfqd5sv",
        "colab_type": "code",
        "colab": {}
      },
      "source": [
        "# Step 7\n",
        "# Training and Making Predictions\n",
        "# In this case we'll use random forest classification for making the predictions.\n",
        "\n",
        "classifier = RandomForestClassifier(max_depth=2, random_state=0)\n",
        "classifier.fit(X_train, y_train)\n",
        "\n",
        "# Predicting the Test set results\n",
        "y_pred = classifier.predict(X_test)"
      ],
      "execution_count": 0,
      "outputs": []
    },
    {
      "cell_type": "code",
      "metadata": {
        "id": "UAtukIN5fVF2",
        "colab_type": "code",
        "outputId": "75042692-cfa4-463f-a763-cbd984a70016",
        "colab": {
          "base_uri": "https://localhost:8080/",
          "height": 66
        }
      },
      "source": [
        "# Step 8\n",
        "#Performance Evaluation\n",
        "\n",
        "cm = confusion_matrix(y_test, y_pred)\n",
        "print(cm)\n",
        "print('Accuracy' , accuracy_score(y_test, y_pred))\n",
        "\n",
        "# Noting that from the output that with only one feature, \n",
        "# the random forest algorithm is able to correctly predict 4036 out of 4668 instances, \n",
        "# resulting in 86.46% accuracy."
      ],
      "execution_count": 0,
      "outputs": [
        {
          "output_type": "stream",
          "text": [
            "[[4036    0]\n",
            " [ 632    0]]\n",
            "Accuracy 0.8646101113967438\n"
          ],
          "name": "stdout"
        }
      ]
    },
    {
      "cell_type": "markdown",
      "metadata": {
        "id": "ouKkDOrChBxo",
        "colab_type": "text"
      },
      "source": [
        "From the above experimentation we achieved optimal level of accuracy while significantly reducing the number of features in the dataset. We saw that accuracy achieved with only 1 principal component is equal to the accuracy achieved with will feature set i.e. 86.46%. It is also pertinent to mention that the accuracy of a classifier doesn't necessarily improve with increased number of principal components.\n",
        "The number of principal components to retain in a feature set depends on several conditions such as storage capacity, training time, performance, etc. In some dataset all the features are contributing equally to the overall variance, therefore all the principal components are crucial to the predictions and none can be ignored. A general rule of thumb is to take number of principal of principal components that contribute to significant variance and ignore those with diminishing variance returns. A good way is to plot the variance against principal components and ignore the principal components with diminishing values."
      ]
    },
    {
      "cell_type": "markdown",
      "metadata": {
        "id": "yoA-4QBLir27",
        "colab_type": "text"
      },
      "source": [
        "b) Linear Discriminant Analysis"
      ]
    },
    {
      "cell_type": "code",
      "metadata": {
        "id": "-9sO1IkViuy0",
        "colab_type": "code",
        "colab": {}
      },
      "source": [
        "#Step 1\n",
        "# the first step is to divide dataset \n",
        "# into features and corresponding labels and then divide the resultant dataset into training and test sets. \n",
        "# The following code divides data into labels and feature set. \n",
        "# The code assigns the first four columns of the dataset i.e. the feature set to X variable \n",
        "# while the values in the fifth column (labels) are assigned to the y variable.\n",
        "#\n",
        "X = Financial.iloc[:, 12:].values\n",
        "y = Financial.iloc[:, 2].values\n"
      ],
      "execution_count": 0,
      "outputs": []
    },
    {
      "cell_type": "code",
      "metadata": {
        "id": "ZnWRLr5vjtRt",
        "colab_type": "code",
        "colab": {}
      },
      "source": [
        "# Step 2: \n",
        "# Divide data into training and test sets\n",
        "#\n",
        "X_train, X_test, y_train, y_test = train_test_split(X, y, test_size=0.2, random_state=0)"
      ],
      "execution_count": 0,
      "outputs": []
    },
    {
      "cell_type": "code",
      "metadata": {
        "id": "svllfeeykSvP",
        "colab_type": "code",
        "colab": {}
      },
      "source": [
        "# Step 3\n",
        "# Feature scaling\n",
        "# We now need to perform feature scaling. We execute the following code to do so:\n",
        "# \n",
        "sc = StandardScaler()\n",
        "X_train = sc.fit_transform(X_train)\n",
        "X_test = sc.transform(X_test)"
      ],
      "execution_count": 0,
      "outputs": []
    },
    {
      "cell_type": "code",
      "metadata": {
        "id": "YgU-EHLXkmOA",
        "colab_type": "code",
        "colab": {}
      },
      "source": [
        "# Step 4\n",
        "# Peforming LDA\n",
        "# It requires only four lines of code to perform LDA with Scikit-Learn. \n",
        "# The LinearDiscriminantAnalysis class of the sklearn.discriminant_analysis \n",
        "# library can be used to Perform LDA in Python. \n",
        "# Let's take a look at the following code\n",
        "#\n",
        "\n",
        "lda = LDA(n_components=1)\n",
        "X_train = lda.fit_transform(X_train, y_train)\n",
        "X_test = lda.transform(X_test)\n",
        "# In the script above the LinearDiscriminantAnalysis class is imported as LDA. \n",
        "# We have to pass the value for the n_components parameter of the LDA, \n",
        "# which refers to the number of linear discriminates that we want to retrieve. \n",
        "# In this case we set the n_components to 1, since we first want to check the performance \n",
        "# of our classifier with a single linear discriminant. \n",
        "# Finally we execute the fit and transform methods to actually retrieve the linear discriminants.\n",
        "# Notice, in case of LDA, the transform method takes two parameters: the X_train and the y_train. \n",
        "# This reflects the fact that LDA takes the output class labels into account while selecting the linear discriminants."
      ],
      "execution_count": 0,
      "outputs": []
    },
    {
      "cell_type": "code",
      "metadata": {
        "id": "XcaGQ9q_lNrW",
        "colab_type": "code",
        "colab": {}
      },
      "source": [
        "# Step 5\n",
        "# Training and Making Predictions\n",
        "# We will use the random forest classifier to evaluate the performance of a PCA-reduced algorithms as shown\n",
        "# \n",
        "\n",
        "classifier = RandomForestClassifier(max_depth=2, random_state=0)\n",
        "classifier.fit(X_train, y_train)\n",
        "y_pred = classifier.predict(X_test)"
      ],
      "execution_count": 0,
      "outputs": []
    },
    {
      "cell_type": "code",
      "metadata": {
        "id": "qglvrHyPleRH",
        "colab_type": "code",
        "outputId": "07d6300e-739e-4e77-e10f-e4f4b9415234",
        "colab": {
          "base_uri": "https://localhost:8080/",
          "height": 66
        }
      },
      "source": [
        "# Step 6\n",
        "# Evaluating the Performance\n",
        "# As always, the last step is to evaluate performance of the algorithm \n",
        "# with the help of a confusion matrix and find the accuracy of the prediction.\n",
        "# \n",
        "\n",
        "cm = confusion_matrix(y_test, y_pred)\n",
        "print(cm)\n",
        "print('Accuracy' + str(accuracy_score(y_test, y_pred)))\n",
        "\n",
        "# We can see that with one linear discriminant, the algorithm achieved an accuracy of 88.88%\n",
        "# which is a little bit higher than the accuracy achieved with 24 principal component, which was 86.46%. "
      ],
      "execution_count": 0,
      "outputs": [
        {
          "output_type": "stream",
          "text": [
            "[[3991   45]\n",
            " [ 474  158]]\n",
            "Accuracy0.8888174807197944\n"
          ],
          "name": "stdout"
        }
      ]
    },
    {
      "cell_type": "markdown",
      "metadata": {
        "id": "NnX58Drnmo3y",
        "colab_type": "text"
      },
      "source": [
        "# Multiple Regression Analysis"
      ]
    },
    {
      "cell_type": "code",
      "metadata": {
        "id": "ewinM1tLoy8T",
        "colab_type": "code",
        "outputId": "02ebd361-cfef-42d5-dd12-f750bd166c51",
        "colab": {
          "base_uri": "https://localhost:8080/",
          "height": 342
        }
      },
      "source": [
        "df.columns"
      ],
      "execution_count": 0,
      "outputs": [
        {
          "output_type": "execute_result",
          "data": {
            "text/plain": [
              "Index(['country_Kenya', 'country_Rwanda', 'country_Tanzania', 'country_Uganda',\n",
              "       'location_Rural', 'location_Urban', 'cellphone_No', 'cellphone_Yes',\n",
              "       'gender_of_respondent_Female', 'gender_of_respondent_Male',\n",
              "       'relationship_Child', 'relationship_Head of Household',\n",
              "       'relationship_Other non-relatives', 'relationship_Other relative',\n",
              "       'relationship_Parent', 'relationship_Spouse',\n",
              "       'marital_status_Divorced/Seperated', 'marital_status_Dont know',\n",
              "       'marital_status_Married/Living together',\n",
              "       'marital_status_Single/Never Married', 'marital_status_Widowed',\n",
              "       'education_level_6', 'education_level_No formal education',\n",
              "       'education_level_Other/Dont know/RTA',\n",
              "       'education_level_Primary education',\n",
              "       'education_level_Secondary education',\n",
              "       'education_level_Tertiary education',\n",
              "       'education_level_Vocational/Specialised training',\n",
              "       'job_Dont Know/Refuse to answer', 'job_Farming and Fishing',\n",
              "       'job_Formally employed Government', 'job_Formally employed Private',\n",
              "       'job_Government Dependent', 'job_Informally employed', 'job_No Income',\n",
              "       'job_Other Income', 'job_Remittance Dependent', 'job_Self employed'],\n",
              "      dtype='object')"
            ]
          },
          "metadata": {
            "tags": []
          },
          "execution_count": 100
        }
      ]
    },
    {
      "cell_type": "code",
      "metadata": {
        "id": "qJtNWUqboxBl",
        "colab_type": "code",
        "outputId": "0fe32ca3-3dde-4203-c9ce-e8dd1ee54032",
        "colab": {
          "base_uri": "https://localhost:8080/",
          "height": 191
        }
      },
      "source": [
        "#Binary encoding of our target variable\n",
        "Financial['account'] = Financial['bank_account'].map( {'Yes':1, 'No':0} )\n",
        "Bank = Financial[['account', 'bank_account']]\n",
        "Bank.head()\n"
      ],
      "execution_count": 0,
      "outputs": [
        {
          "output_type": "execute_result",
          "data": {
            "text/html": [
              "<div>\n",
              "<style scoped>\n",
              "    .dataframe tbody tr th:only-of-type {\n",
              "        vertical-align: middle;\n",
              "    }\n",
              "\n",
              "    .dataframe tbody tr th {\n",
              "        vertical-align: top;\n",
              "    }\n",
              "\n",
              "    .dataframe thead th {\n",
              "        text-align: right;\n",
              "    }\n",
              "</style>\n",
              "<table border=\"1\" class=\"dataframe\">\n",
              "  <thead>\n",
              "    <tr style=\"text-align: right;\">\n",
              "      <th></th>\n",
              "      <th>account</th>\n",
              "      <th>bank_account</th>\n",
              "    </tr>\n",
              "  </thead>\n",
              "  <tbody>\n",
              "    <tr>\n",
              "      <th>0</th>\n",
              "      <td>1</td>\n",
              "      <td>Yes</td>\n",
              "    </tr>\n",
              "    <tr>\n",
              "      <th>1</th>\n",
              "      <td>0</td>\n",
              "      <td>No</td>\n",
              "    </tr>\n",
              "    <tr>\n",
              "      <th>2</th>\n",
              "      <td>1</td>\n",
              "      <td>Yes</td>\n",
              "    </tr>\n",
              "    <tr>\n",
              "      <th>3</th>\n",
              "      <td>0</td>\n",
              "      <td>No</td>\n",
              "    </tr>\n",
              "    <tr>\n",
              "      <th>4</th>\n",
              "      <td>0</td>\n",
              "      <td>No</td>\n",
              "    </tr>\n",
              "  </tbody>\n",
              "</table>\n",
              "</div>"
            ],
            "text/plain": [
              "   account bank_account\n",
              "0        1          Yes\n",
              "1        0           No\n",
              "2        1          Yes\n",
              "3        0           No\n",
              "4        0           No"
            ]
          },
          "metadata": {
            "tags": []
          },
          "execution_count": 102
        }
      ]
    },
    {
      "cell_type": "code",
      "metadata": {
        "id": "xfwjZ3SdqFDO",
        "colab_type": "code",
        "colab": {}
      },
      "source": [
        "# Training our regression model\n",
        "# First split up our data \n",
        "# into an X array that contains the features to train on, \n",
        "# and a y array with the target variable.\n",
        "X = df[['country_Kenya', 'country_Rwanda', 'country_Tanzania', 'country_Uganda',\n",
        "       'location_Rural', 'location_Urban', 'cellphone_No', 'cellphone_Yes',\n",
        "       'gender_of_respondent_Female', 'gender_of_respondent_Male',\n",
        "       'relationship_Child', 'relationship_Head of Household',\n",
        "       'relationship_Other non-relatives', 'relationship_Other relative',\n",
        "       'relationship_Parent', 'relationship_Spouse',\n",
        "       'marital_status_Divorced/Seperated', 'marital_status_Dont know',\n",
        "       'marital_status_Married/Living together',\n",
        "       'marital_status_Single/Never Married', 'marital_status_Widowed',\n",
        "       'education_level_6', 'education_level_No formal education',\n",
        "       'education_level_Other/Dont know/RTA',\n",
        "       'education_level_Primary education',\n",
        "       'education_level_Secondary education',\n",
        "       'education_level_Tertiary education',\n",
        "       'education_level_Vocational/Specialised training',\n",
        "       'job_Dont Know/Refuse to answer', 'job_Farming and Fishing',\n",
        "       'job_Formally employed Government', 'job_Formally employed Private',\n",
        "       'job_Government Dependent', 'job_Informally employed', 'job_No Income',\n",
        "       'job_Other Income', 'job_Remittance Dependent', 'job_Self employed']]\n",
        "Y = Financial['account']\n"
      ],
      "execution_count": 0,
      "outputs": []
    },
    {
      "cell_type": "code",
      "metadata": {
        "id": "vUnUG6kstRhY",
        "colab_type": "code",
        "outputId": "66d1a712-9d7e-450b-f616-bfba54f883c2",
        "colab": {
          "base_uri": "https://localhost:8080/",
          "height": 243
        }
      },
      "source": [
        "X.head()"
      ],
      "execution_count": 0,
      "outputs": [
        {
          "output_type": "execute_result",
          "data": {
            "text/html": [
              "<div>\n",
              "<style scoped>\n",
              "    .dataframe tbody tr th:only-of-type {\n",
              "        vertical-align: middle;\n",
              "    }\n",
              "\n",
              "    .dataframe tbody tr th {\n",
              "        vertical-align: top;\n",
              "    }\n",
              "\n",
              "    .dataframe thead th {\n",
              "        text-align: right;\n",
              "    }\n",
              "</style>\n",
              "<table border=\"1\" class=\"dataframe\">\n",
              "  <thead>\n",
              "    <tr style=\"text-align: right;\">\n",
              "      <th></th>\n",
              "      <th>country_Kenya</th>\n",
              "      <th>country_Rwanda</th>\n",
              "      <th>country_Tanzania</th>\n",
              "      <th>country_Uganda</th>\n",
              "      <th>location_Rural</th>\n",
              "      <th>location_Urban</th>\n",
              "      <th>cellphone_No</th>\n",
              "      <th>cellphone_Yes</th>\n",
              "      <th>gender_of_respondent_Female</th>\n",
              "      <th>gender_of_respondent_Male</th>\n",
              "      <th>relationship_Child</th>\n",
              "      <th>relationship_Head of Household</th>\n",
              "      <th>relationship_Other non-relatives</th>\n",
              "      <th>relationship_Other relative</th>\n",
              "      <th>relationship_Parent</th>\n",
              "      <th>relationship_Spouse</th>\n",
              "      <th>marital_status_Divorced/Seperated</th>\n",
              "      <th>marital_status_Dont know</th>\n",
              "      <th>marital_status_Married/Living together</th>\n",
              "      <th>marital_status_Single/Never Married</th>\n",
              "      <th>marital_status_Widowed</th>\n",
              "      <th>education_level_6</th>\n",
              "      <th>education_level_No formal education</th>\n",
              "      <th>education_level_Other/Dont know/RTA</th>\n",
              "      <th>education_level_Primary education</th>\n",
              "      <th>education_level_Secondary education</th>\n",
              "      <th>education_level_Tertiary education</th>\n",
              "      <th>education_level_Vocational/Specialised training</th>\n",
              "      <th>job_Dont Know/Refuse to answer</th>\n",
              "      <th>job_Farming and Fishing</th>\n",
              "      <th>job_Formally employed Government</th>\n",
              "      <th>job_Formally employed Private</th>\n",
              "      <th>job_Government Dependent</th>\n",
              "      <th>job_Informally employed</th>\n",
              "      <th>job_No Income</th>\n",
              "      <th>job_Other Income</th>\n",
              "      <th>job_Remittance Dependent</th>\n",
              "      <th>job_Self employed</th>\n",
              "    </tr>\n",
              "  </thead>\n",
              "  <tbody>\n",
              "    <tr>\n",
              "      <th>0</th>\n",
              "      <td>1</td>\n",
              "      <td>0</td>\n",
              "      <td>0</td>\n",
              "      <td>0</td>\n",
              "      <td>1</td>\n",
              "      <td>0</td>\n",
              "      <td>0</td>\n",
              "      <td>1</td>\n",
              "      <td>1</td>\n",
              "      <td>0</td>\n",
              "      <td>0</td>\n",
              "      <td>0</td>\n",
              "      <td>0</td>\n",
              "      <td>0</td>\n",
              "      <td>0</td>\n",
              "      <td>1</td>\n",
              "      <td>0</td>\n",
              "      <td>0</td>\n",
              "      <td>1</td>\n",
              "      <td>0</td>\n",
              "      <td>0</td>\n",
              "      <td>0</td>\n",
              "      <td>0</td>\n",
              "      <td>0</td>\n",
              "      <td>0</td>\n",
              "      <td>1</td>\n",
              "      <td>0</td>\n",
              "      <td>0</td>\n",
              "      <td>0</td>\n",
              "      <td>0</td>\n",
              "      <td>0</td>\n",
              "      <td>0</td>\n",
              "      <td>0</td>\n",
              "      <td>0</td>\n",
              "      <td>0</td>\n",
              "      <td>0</td>\n",
              "      <td>0</td>\n",
              "      <td>1</td>\n",
              "    </tr>\n",
              "    <tr>\n",
              "      <th>1</th>\n",
              "      <td>1</td>\n",
              "      <td>0</td>\n",
              "      <td>0</td>\n",
              "      <td>0</td>\n",
              "      <td>1</td>\n",
              "      <td>0</td>\n",
              "      <td>1</td>\n",
              "      <td>0</td>\n",
              "      <td>1</td>\n",
              "      <td>0</td>\n",
              "      <td>0</td>\n",
              "      <td>1</td>\n",
              "      <td>0</td>\n",
              "      <td>0</td>\n",
              "      <td>0</td>\n",
              "      <td>0</td>\n",
              "      <td>0</td>\n",
              "      <td>0</td>\n",
              "      <td>0</td>\n",
              "      <td>0</td>\n",
              "      <td>1</td>\n",
              "      <td>0</td>\n",
              "      <td>1</td>\n",
              "      <td>0</td>\n",
              "      <td>0</td>\n",
              "      <td>0</td>\n",
              "      <td>0</td>\n",
              "      <td>0</td>\n",
              "      <td>0</td>\n",
              "      <td>0</td>\n",
              "      <td>0</td>\n",
              "      <td>0</td>\n",
              "      <td>1</td>\n",
              "      <td>0</td>\n",
              "      <td>0</td>\n",
              "      <td>0</td>\n",
              "      <td>0</td>\n",
              "      <td>0</td>\n",
              "    </tr>\n",
              "    <tr>\n",
              "      <th>2</th>\n",
              "      <td>1</td>\n",
              "      <td>0</td>\n",
              "      <td>0</td>\n",
              "      <td>0</td>\n",
              "      <td>0</td>\n",
              "      <td>1</td>\n",
              "      <td>0</td>\n",
              "      <td>1</td>\n",
              "      <td>0</td>\n",
              "      <td>1</td>\n",
              "      <td>0</td>\n",
              "      <td>0</td>\n",
              "      <td>0</td>\n",
              "      <td>1</td>\n",
              "      <td>0</td>\n",
              "      <td>0</td>\n",
              "      <td>0</td>\n",
              "      <td>0</td>\n",
              "      <td>0</td>\n",
              "      <td>1</td>\n",
              "      <td>0</td>\n",
              "      <td>0</td>\n",
              "      <td>0</td>\n",
              "      <td>0</td>\n",
              "      <td>0</td>\n",
              "      <td>0</td>\n",
              "      <td>0</td>\n",
              "      <td>1</td>\n",
              "      <td>0</td>\n",
              "      <td>0</td>\n",
              "      <td>0</td>\n",
              "      <td>0</td>\n",
              "      <td>0</td>\n",
              "      <td>0</td>\n",
              "      <td>0</td>\n",
              "      <td>0</td>\n",
              "      <td>0</td>\n",
              "      <td>1</td>\n",
              "    </tr>\n",
              "    <tr>\n",
              "      <th>3</th>\n",
              "      <td>1</td>\n",
              "      <td>0</td>\n",
              "      <td>0</td>\n",
              "      <td>0</td>\n",
              "      <td>1</td>\n",
              "      <td>0</td>\n",
              "      <td>0</td>\n",
              "      <td>1</td>\n",
              "      <td>1</td>\n",
              "      <td>0</td>\n",
              "      <td>0</td>\n",
              "      <td>1</td>\n",
              "      <td>0</td>\n",
              "      <td>0</td>\n",
              "      <td>0</td>\n",
              "      <td>0</td>\n",
              "      <td>0</td>\n",
              "      <td>0</td>\n",
              "      <td>1</td>\n",
              "      <td>0</td>\n",
              "      <td>0</td>\n",
              "      <td>0</td>\n",
              "      <td>0</td>\n",
              "      <td>0</td>\n",
              "      <td>1</td>\n",
              "      <td>0</td>\n",
              "      <td>0</td>\n",
              "      <td>0</td>\n",
              "      <td>0</td>\n",
              "      <td>0</td>\n",
              "      <td>0</td>\n",
              "      <td>1</td>\n",
              "      <td>0</td>\n",
              "      <td>0</td>\n",
              "      <td>0</td>\n",
              "      <td>0</td>\n",
              "      <td>0</td>\n",
              "      <td>0</td>\n",
              "    </tr>\n",
              "    <tr>\n",
              "      <th>4</th>\n",
              "      <td>1</td>\n",
              "      <td>0</td>\n",
              "      <td>0</td>\n",
              "      <td>0</td>\n",
              "      <td>0</td>\n",
              "      <td>1</td>\n",
              "      <td>1</td>\n",
              "      <td>0</td>\n",
              "      <td>0</td>\n",
              "      <td>1</td>\n",
              "      <td>1</td>\n",
              "      <td>0</td>\n",
              "      <td>0</td>\n",
              "      <td>0</td>\n",
              "      <td>0</td>\n",
              "      <td>0</td>\n",
              "      <td>0</td>\n",
              "      <td>0</td>\n",
              "      <td>0</td>\n",
              "      <td>1</td>\n",
              "      <td>0</td>\n",
              "      <td>0</td>\n",
              "      <td>0</td>\n",
              "      <td>0</td>\n",
              "      <td>1</td>\n",
              "      <td>0</td>\n",
              "      <td>0</td>\n",
              "      <td>0</td>\n",
              "      <td>0</td>\n",
              "      <td>0</td>\n",
              "      <td>0</td>\n",
              "      <td>0</td>\n",
              "      <td>0</td>\n",
              "      <td>1</td>\n",
              "      <td>0</td>\n",
              "      <td>0</td>\n",
              "      <td>0</td>\n",
              "      <td>0</td>\n",
              "    </tr>\n",
              "  </tbody>\n",
              "</table>\n",
              "</div>"
            ],
            "text/plain": [
              "   country_Kenya  country_Rwanda  ...  job_Remittance Dependent  job_Self employed\n",
              "0              1               0  ...                         0                  1\n",
              "1              1               0  ...                         0                  0\n",
              "2              1               0  ...                         0                  1\n",
              "3              1               0  ...                         0                  0\n",
              "4              1               0  ...                         0                  0\n",
              "\n",
              "[5 rows x 38 columns]"
            ]
          },
          "metadata": {
            "tags": []
          },
          "execution_count": 104
        }
      ]
    },
    {
      "cell_type": "code",
      "metadata": {
        "id": "gsCknhV3umyg",
        "colab_type": "code",
        "outputId": "ff211f17-7ac3-41ed-dfbf-393dbb1b63be",
        "colab": {
          "base_uri": "https://localhost:8080/",
          "height": 115
        }
      },
      "source": [
        "Y.head()"
      ],
      "execution_count": 0,
      "outputs": [
        {
          "output_type": "execute_result",
          "data": {
            "text/plain": [
              "0    1\n",
              "1    0\n",
              "2    1\n",
              "3    0\n",
              "4    0\n",
              "Name: account, dtype: int64"
            ]
          },
          "metadata": {
            "tags": []
          },
          "execution_count": 107
        }
      ]
    },
    {
      "cell_type": "code",
      "metadata": {
        "id": "1xB70s56yDCH",
        "colab_type": "code",
        "outputId": "c428241c-efa0-4f1b-fd38-0dc6814db3f5",
        "colab": {
          "base_uri": "https://localhost:8080/",
          "height": 942
        }
      },
      "source": [
        "# Heatmap\n",
        "# Plots the correlation.\n",
        "# The darker shade shows that there is no linear relationship between the two variables. \n",
        "# A lighter shade shows that the relationship between the variables is more linear.\n",
        "plt.figure(dpi = 150)\n",
        "sns.heatmap(df.corr())"
      ],
      "execution_count": 0,
      "outputs": [
        {
          "output_type": "execute_result",
          "data": {
            "text/plain": [
              "<matplotlib.axes._subplots.AxesSubplot at 0x7f67e206dc50>"
            ]
          },
          "metadata": {
            "tags": []
          },
          "execution_count": 121
        },
        {
          "output_type": "display_data",
          "data": {
            "image/png": "[encoded data removed]",
            "text/plain": [
              "<Figure size 900x600 with 2 Axes>"
            ]
          },
          "metadata": {
            "tags": [],
            "needs_background": "light"
          }
        }
      ]
    },
    {
      "cell_type": "code",
      "metadata": {
        "id": "kLW8zmZwsu9U",
        "colab_type": "code",
        "colab": {}
      },
      "source": [
        "# Trained data is the data on which we apply the linear regression algorithm. \n",
        "# 40% of the data will go to the test data\n",
        "# 60% remains in the training set.\n",
        "# And finally we test that algorithm on the test data. \n",
        "\n",
        "\n",
        "# First we split the data into test set and training set\n",
        "\n",
        "X_train, X_test, Y_train, Y_test = train_test_split(X, Y, test_size = 0.4, random_state = 101)"
      ],
      "execution_count": 0,
      "outputs": []
    },
    {
      "cell_type": "code",
      "metadata": {
        "id": "8AnjVQCBs2SR",
        "colab_type": "code",
        "colab": {}
      },
      "source": [
        "# Then we create and train the model by fitting the linear regression model on the training data.\n",
        "\n",
        "lm = LinearRegression()\n",
        "\n",
        "results = lm.fit(X_train,Y_train)"
      ],
      "execution_count": 0,
      "outputs": []
    },
    {
      "cell_type": "code",
      "metadata": {
        "id": "5yl2M8S7u8CC",
        "colab_type": "code",
        "colab": {}
      },
      "source": [
        "# Grabbing predictions off the test set and see how well it did\n",
        "\n",
        "predictions = lm.predict(X_test)"
      ],
      "execution_count": 0,
      "outputs": []
    },
    {
      "cell_type": "code",
      "metadata": {
        "id": "4bKmt7bVvCMX",
        "colab_type": "code",
        "outputId": "4a2ba284-e689-40ba-adc0-0477de8a01d2",
        "colab": {
          "base_uri": "https://localhost:8080/",
          "height": 281
        }
      },
      "source": [
        "# visualising the prediction\n",
        "\n",
        "plt.scatter(Y_test, predictions)"
      ],
      "execution_count": 0,
      "outputs": [
        {
          "output_type": "execute_result",
          "data": {
            "text/plain": [
              "<matplotlib.collections.PathCollection at 0x7f67da3b70f0>"
            ]
          },
          "metadata": {
            "tags": []
          },
          "execution_count": 112
        },
        {
          "output_type": "display_data",
          "data": {
            "image/png": "[encoded data removed]",
            "text/plain": [
              "<Figure size 432x288 with 1 Axes>"
            ]
          },
          "metadata": {
            "tags": [],
            "needs_background": "light"
          }
        }
      ]
    },
    {
      "cell_type": "code",
      "metadata": {
        "id": "k4iSex5XvN8I",
        "colab_type": "code",
        "outputId": "c3d21c34-d90a-4042-91b4-b4500a779f20",
        "colab": {
          "base_uri": "https://localhost:8080/",
          "height": 33
        }
      },
      "source": [
        "# Coefficient of determination, R2, is the fraction (percentage) of variation in the response variable Y \n",
        "# that is explainable by the predictor variable X. It ranges between 0 (no predictability) to 1 (or 100%) \n",
        "# which indicates complete predictability.A high R2 indicates being able to predict response variable with less error.\n",
        "\n",
        "\n",
        "r2_score(Y_test, predictions) \n",
        "\n",
        "# The results indicates that the model explains 25.9% of the variability of the response data\n",
        "# This indicates that the model is not a good fit."
      ],
      "execution_count": 0,
      "outputs": [
        {
          "output_type": "execute_result",
          "data": {
            "text/plain": [
              "0.2590219667480258"
            ]
          },
          "metadata": {
            "tags": []
          },
          "execution_count": 113
        }
      ]
    },
    {
      "cell_type": "code",
      "metadata": {
        "id": "5UF0LFUovpFb",
        "colab_type": "code",
        "outputId": "fd274589-768d-4192-a76a-e5893112ae89",
        "colab": {
          "base_uri": "https://localhost:8080/",
          "height": 180
        }
      },
      "source": [
        "# The idea of linear regression model is to have the coefficients of the equation that will allow us to make a prediction. \n",
        "\n",
        "# We can return a python tuple containing an array with the coefficients and the intercept value as in the output\n",
        "\n",
        "(lm.coef_, lm.intercept_)"
      ],
      "execution_count": 0,
      "outputs": [
        {
          "output_type": "execute_result",
          "data": {
            "text/plain": [
              "(array([-1.76710056e+11, -1.76710056e+11, -1.76710056e+11, -1.76710056e+11,\n",
              "         1.46010270e+12,  1.46010270e+12, -1.76803772e+12, -1.76803772e+12,\n",
              "         1.85228668e+12,  1.85228668e+12, -9.28363030e+11, -9.28363030e+11,\n",
              "        -9.28363030e+11, -9.28363030e+11, -9.28363030e+11, -9.28363030e+11,\n",
              "        -2.30503690e+12, -2.30503690e+12, -2.30503690e+12, -2.30503690e+12,\n",
              "        -2.30503690e+12, -1.59980882e+12, -1.59980882e+12, -1.59980882e+12,\n",
              "        -1.59980882e+12, -1.59980882e+12, -1.59980882e+12, -1.59980882e+12,\n",
              "         2.59353555e+11,  2.59353555e+11,  2.59353555e+11,  2.59353555e+11,\n",
              "         2.59353555e+11,  2.59353555e+11,  2.59353555e+11,  2.59353555e+11,\n",
              "         2.59353555e+11,  2.59353555e+11]), 3206213593712.229)"
            ]
          },
          "metadata": {
            "tags": []
          },
          "execution_count": 114
        }
      ]
    },
    {
      "cell_type": "code",
      "metadata": {
        "id": "Mtkgv9kTv0BK",
        "colab_type": "code",
        "outputId": "09f7081b-1511-44bc-fe4b-04acba52d199",
        "colab": {
          "base_uri": "https://localhost:8080/",
          "height": 1000
        }
      },
      "source": [
        "# P-value less than 0.05 is one way to decide whether there is likely a relationship between the feature and the response.\n",
        "# The p-value represents the probability that the coefficient is actually zero. A predictor (an independent variable) \n",
        "# that has a low p-value is likely to be a meaningful addition to your model because changes in the predictor's value \n",
        "# are related to changes in the response variable. \n",
        "# Conversely, a larger (insignificant) p-value suggests that changes \n",
        "# in the predictor are not associated with changes in the response.\n",
        "\n",
        "\n",
        "X2 = sm.add_constant(X.values)  \n",
        "model = sm.OLS(Y, X2).fit()  \n",
        "print(model.summary())"
      ],
      "execution_count": 0,
      "outputs": [
        {
          "output_type": "stream",
          "text": [
            "                            OLS Regression Results                            \n",
            "==============================================================================\n",
            "Dep. Variable:                account   R-squared:                       0.262\n",
            "Model:                            OLS   Adj. R-squared:                  0.261\n",
            "Method:                 Least Squares   F-statistic:                     275.5\n",
            "Date:                Sun, 03 May 2020   Prob (F-statistic):               0.00\n",
            "Time:                        08:55:57   Log-Likelihood:                -4955.9\n",
            "No. Observations:               23340   AIC:                             9974.\n",
            "Df Residuals:                   23309   BIC:                         1.022e+04\n",
            "Df Model:                          30                                         \n",
            "Covariance Type:            nonrobust                                         \n",
            "==============================================================================\n",
            "                 coef    std err          t      P>|t|      [0.025      0.975]\n",
            "------------------------------------------------------------------------------\n",
            "const      -5.284e+11   1.92e+11     -2.753      0.006   -9.05e+11   -1.52e+11\n",
            "x1         -4.345e+11   1.58e+11     -2.753      0.006   -7.44e+11   -1.25e+11\n",
            "x2         -4.345e+11   1.58e+11     -2.753      0.006   -7.44e+11   -1.25e+11\n",
            "x3         -4.345e+11   1.58e+11     -2.753      0.006   -7.44e+11   -1.25e+11\n",
            "x4         -4.345e+11   1.58e+11     -2.753      0.006   -7.44e+11   -1.25e+11\n",
            "x5          1.006e+11   3.66e+10      2.753      0.006     2.9e+10    1.72e+11\n",
            "x6          1.006e+11   3.66e+10      2.753      0.006     2.9e+10    1.72e+11\n",
            "x7          -1.21e+11   4.39e+10     -2.753      0.006   -2.07e+11   -3.48e+10\n",
            "x8          -1.21e+11   4.39e+10     -2.753      0.006   -2.07e+11   -3.48e+10\n",
            "x9          6.579e+11   2.39e+11      2.753      0.006     1.9e+11    1.13e+12\n",
            "x10         6.579e+11   2.39e+11      2.753      0.006     1.9e+11    1.13e+12\n",
            "x11         1.057e+11   3.84e+10      2.753      0.006    3.05e+10    1.81e+11\n",
            "x12         1.057e+11   3.84e+10      2.753      0.006    3.05e+10    1.81e+11\n",
            "x13         1.057e+11   3.84e+10      2.753      0.006    3.05e+10    1.81e+11\n",
            "x14         1.057e+11   3.84e+10      2.753      0.006    3.05e+10    1.81e+11\n",
            "x15         1.057e+11   3.84e+10      2.753      0.006    3.05e+10    1.81e+11\n",
            "x16         1.057e+11   3.84e+10      2.753      0.006    3.05e+10    1.81e+11\n",
            "x17         1.563e+11   5.68e+10      2.753      0.006     4.5e+10    2.68e+11\n",
            "x18         1.563e+11   5.68e+10      2.753      0.006     4.5e+10    2.68e+11\n",
            "x19         1.563e+11   5.68e+10      2.753      0.006     4.5e+10    2.68e+11\n",
            "x20         1.563e+11   5.68e+10      2.753      0.006     4.5e+10    2.68e+11\n",
            "x21         1.563e+11   5.68e+10      2.753      0.006     4.5e+10    2.68e+11\n",
            "x22         6.687e+10   2.43e+10      2.753      0.006    1.93e+10    1.14e+11\n",
            "x23         6.687e+10   2.43e+10      2.753      0.006    1.93e+10    1.14e+11\n",
            "x24         6.687e+10   2.43e+10      2.753      0.006    1.93e+10    1.14e+11\n",
            "x25         6.687e+10   2.43e+10      2.753      0.006    1.93e+10    1.14e+11\n",
            "x26         6.687e+10   2.43e+10      2.753      0.006    1.93e+10    1.14e+11\n",
            "x27         6.687e+10   2.43e+10      2.753      0.006    1.93e+10    1.14e+11\n",
            "x28         6.687e+10   2.43e+10      2.753      0.006    1.93e+10    1.14e+11\n",
            "x29        -3.551e+09   1.29e+09     -2.753      0.006   -6.08e+09   -1.02e+09\n",
            "x30        -3.551e+09   1.29e+09     -2.753      0.006   -6.08e+09   -1.02e+09\n",
            "x31        -3.551e+09   1.29e+09     -2.753      0.006   -6.08e+09   -1.02e+09\n",
            "x32        -3.551e+09   1.29e+09     -2.753      0.006   -6.08e+09   -1.02e+09\n",
            "x33        -3.551e+09   1.29e+09     -2.753      0.006   -6.08e+09   -1.02e+09\n",
            "x34        -3.551e+09   1.29e+09     -2.753      0.006   -6.08e+09   -1.02e+09\n",
            "x35        -3.551e+09   1.29e+09     -2.753      0.006   -6.08e+09   -1.02e+09\n",
            "x36        -3.551e+09   1.29e+09     -2.753      0.006   -6.08e+09   -1.02e+09\n",
            "x37        -3.551e+09   1.29e+09     -2.753      0.006   -6.08e+09   -1.02e+09\n",
            "x38        -3.551e+09   1.29e+09     -2.753      0.006   -6.08e+09   -1.02e+09\n",
            "==============================================================================\n",
            "Omnibus:                     6647.616   Durbin-Watson:                   1.996\n",
            "Prob(Omnibus):                  0.000   Jarque-Bera (JB):            16712.522\n",
            "Skew:                           1.573   Prob(JB):                         0.00\n",
            "Kurtosis:                       5.701   Cond. No.                     1.15e+16\n",
            "==============================================================================\n",
            "\n",
            "Warnings:\n",
            "[1] Standard Errors assume that the covariance matrix of the errors is correctly specified.\n",
            "[2] The smallest eigenvalue is 7.58e-28. This might indicate that there are\n",
            "strong multicollinearity problems or that the design matrix is singular.\n"
          ],
          "name": "stdout"
        }
      ]
    },
    {
      "cell_type": "markdown",
      "metadata": {
        "id": "Qjajo1ELNQ4I",
        "colab_type": "text"
      },
      "source": [
        "# Challenging the solution and providing insights to make improvements."
      ]
    },
    {
      "cell_type": "markdown",
      "metadata": {
        "id": "F1lQ2ea2Np-i",
        "colab_type": "text"
      },
      "source": [
        "From our question ,Determine how we can predict which individuals are most likely to have or use a bank account is a predictive type of analysis that its outcome would be more effective if we had more variables like transaction patterns of customers.This way we would have a more in depth assessment of financial inclusion in the Region and therefore come up with a better informed model."
      ]
    }
  ]
}